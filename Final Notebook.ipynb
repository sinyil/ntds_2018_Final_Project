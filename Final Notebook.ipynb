{
 "cells": [
  {
   "cell_type": "code",
   "execution_count": 1,
   "metadata": {},
   "outputs": [],
   "source": [
    "import pandas as pd\n",
    "import numpy as np\n",
    "import pygsp as pg\n",
    "from sklearn.cluster import KMeans\n",
    "import networkx as nx\n",
    "from scipy import sparse\n",
    "import matplotlib.pyplot as plt\n",
    "import scipy.sparse.linalg\n",
    "from pyunlocbox import functions, solvers"
   ]
  },
  {
   "cell_type": "markdown",
   "metadata": {},
   "source": [
    "# Exposing the True Terrorist Network"
   ]
  },
  {
   "cell_type": "markdown",
   "metadata": {},
   "source": [
    "In the context of social network analysis, where social networks are generally represented as a graph where nodes are individuals and edges are relationships, frequently the primary objective is to predict the existence of yet unobserved relationships. An implementation of such is Facebook's friend recommendation system.\n",
    "\n",
    "In this project we work with the Terrorist Relations dataset that is taken from the Profile in Terror (PIT) knowledge base. This dataset illustrates an affiliation network of terrorists where nodes are represented as relations and edges as terrorists. As such, a node consists of two terrorist identifiers and two nodes are connected by an edge if they share a common terrorist. This representation is known as a Line Graph and is often used in classification tasks where the interest is placed on the label of two interlinked network entities rather than the labels of the entities themselves.\n",
    "\n",
    "As terrorists arguably present the largest threat to today's society, it is of great interest to analyse and reveal interesting properties of their network in order to guide anti-terrorist campaigns and help ensure public safety around the world. This dataset was of particular interest as data relating to terrorists is scarce due to the secretive nature of terrorist activities. The original PIT dataset contains relevant terrorism related information extracted from public news sources such as newspapers, broadcasts, and court proceedings. Hence, this dataset is purely built on empirical evidences and it safe to assume that it is incomplete.\n",
    "\n",
    "As a result, we set ourselves the objective of revealing the complete terrorist network and subsequently performing a network analysis on both the original and expanded networks. Finally, we aim to define the top priority terrorist(s) for anti-terrorism campaigns to target in order to successfully disrupt and weaken the network."
   ]
  },
  {
   "cell_type": "markdown",
   "metadata": {},
   "source": [
    "## I. Data Exploration and Pre-processing"
   ]
  },
  {
   "cell_type": "markdown",
   "metadata": {},
   "source": [
    "The following cells load only the Colleague, Family, Congregate and Contact nodes datasets. Both the labels and edges datasets were left out. We did not load the label data as label information is already contained within the nodes data loaded below. Additionally, during the Milestones we discovered inconsistencies in the edges dataset (i.e. edges connecting non-existent nodes). Hence, we decided to leave it out and reconstruct the edges from the nodes data as seen later."
   ]
  },
  {
   "cell_type": "code",
   "execution_count": 2,
   "metadata": {},
   "outputs": [],
   "source": [
    "family = pd.read_csv('TerroristRel/TerroristRel_Family.nodes', header = None, delim_whitespace = True, engine='python')\n",
    "colleague = pd.read_csv('TerroristRel/TerroristRel_Colleague.nodes', header = None, delim_whitespace = True, engine='python')\n",
    "congregate = pd.read_csv('TerroristRel/TerroristRel_Congregate.nodes', header = None, delim_whitespace = True, engine='python')\n",
    "contact = pd.read_csv('TerroristRel/TerroristRel_Contact.nodes', header = None, delim_whitespace = True, engine='python')"
   ]
  },
  {
   "cell_type": "markdown",
   "metadata": {},
   "source": [
    "### a. Data structure"
   ]
  },
  {
   "cell_type": "markdown",
   "metadata": {},
   "source": [
    "Looking at the nodes data below we can see that for all 4 datasets we have the following information:\n",
    "-  Column 0: Concatenatation of the URL identifier of both terrorists in the relation\n",
    "-  Column 1 to 1224: A set of binary features for each relation\n",
    "-  Column 1225: The dataset's respective label indicator column that states if it is positively labeled or negatively labeled (i.e. family or non-family)"
   ]
  },
  {
   "cell_type": "code",
   "execution_count": 3,
   "metadata": {},
   "outputs": [
    {
     "data": {
      "text/html": [
       "<div>\n",
       "<style scoped>\n",
       "    .dataframe tbody tr th:only-of-type {\n",
       "        vertical-align: middle;\n",
       "    }\n",
       "\n",
       "    .dataframe tbody tr th {\n",
       "        vertical-align: top;\n",
       "    }\n",
       "\n",
       "    .dataframe thead th {\n",
       "        text-align: right;\n",
       "    }\n",
       "</style>\n",
       "<table border=\"1\" class=\"dataframe\">\n",
       "  <thead>\n",
       "    <tr style=\"text-align: right;\">\n",
       "      <th></th>\n",
       "      <th>0</th>\n",
       "      <th>1</th>\n",
       "      <th>2</th>\n",
       "      <th>3</th>\n",
       "      <th>4</th>\n",
       "      <th>5</th>\n",
       "      <th>6</th>\n",
       "      <th>7</th>\n",
       "      <th>8</th>\n",
       "      <th>9</th>\n",
       "      <th>...</th>\n",
       "      <th>1216</th>\n",
       "      <th>1217</th>\n",
       "      <th>1218</th>\n",
       "      <th>1219</th>\n",
       "      <th>1220</th>\n",
       "      <th>1221</th>\n",
       "      <th>1222</th>\n",
       "      <th>1223</th>\n",
       "      <th>1224</th>\n",
       "      <th>1225</th>\n",
       "    </tr>\n",
       "  </thead>\n",
       "  <tbody>\n",
       "    <tr>\n",
       "      <th>0</th>\n",
       "      <td>http://profilesinterror.mindswap.org/document/...</td>\n",
       "      <td>0</td>\n",
       "      <td>0</td>\n",
       "      <td>0</td>\n",
       "      <td>0</td>\n",
       "      <td>0</td>\n",
       "      <td>0</td>\n",
       "      <td>0</td>\n",
       "      <td>0</td>\n",
       "      <td>0</td>\n",
       "      <td>...</td>\n",
       "      <td>0</td>\n",
       "      <td>0</td>\n",
       "      <td>0</td>\n",
       "      <td>0</td>\n",
       "      <td>0</td>\n",
       "      <td>0</td>\n",
       "      <td>0</td>\n",
       "      <td>0</td>\n",
       "      <td>0</td>\n",
       "      <td>family</td>\n",
       "    </tr>\n",
       "  </tbody>\n",
       "</table>\n",
       "<p>1 rows × 1226 columns</p>\n",
       "</div>"
      ],
      "text/plain": [
       "                                                0     1     2     3     4     \\\n",
       "0  http://profilesinterror.mindswap.org/document/...     0     0     0     0   \n",
       "\n",
       "   5     6     7     8     9      ...    1216  1217  1218  1219  1220  1221  \\\n",
       "0     0     0     0     0     0   ...       0     0     0     0     0     0   \n",
       "\n",
       "   1222  1223  1224    1225  \n",
       "0     0     0     0  family  \n",
       "\n",
       "[1 rows x 1226 columns]"
      ]
     },
     "metadata": {},
     "output_type": "display_data"
    },
    {
     "data": {
      "text/html": [
       "<div>\n",
       "<style scoped>\n",
       "    .dataframe tbody tr th:only-of-type {\n",
       "        vertical-align: middle;\n",
       "    }\n",
       "\n",
       "    .dataframe tbody tr th {\n",
       "        vertical-align: top;\n",
       "    }\n",
       "\n",
       "    .dataframe thead th {\n",
       "        text-align: right;\n",
       "    }\n",
       "</style>\n",
       "<table border=\"1\" class=\"dataframe\">\n",
       "  <thead>\n",
       "    <tr style=\"text-align: right;\">\n",
       "      <th></th>\n",
       "      <th>0</th>\n",
       "      <th>1</th>\n",
       "      <th>2</th>\n",
       "      <th>3</th>\n",
       "      <th>4</th>\n",
       "      <th>5</th>\n",
       "      <th>6</th>\n",
       "      <th>7</th>\n",
       "      <th>8</th>\n",
       "      <th>9</th>\n",
       "      <th>...</th>\n",
       "      <th>1216</th>\n",
       "      <th>1217</th>\n",
       "      <th>1218</th>\n",
       "      <th>1219</th>\n",
       "      <th>1220</th>\n",
       "      <th>1221</th>\n",
       "      <th>1222</th>\n",
       "      <th>1223</th>\n",
       "      <th>1224</th>\n",
       "      <th>1225</th>\n",
       "    </tr>\n",
       "  </thead>\n",
       "  <tbody>\n",
       "    <tr>\n",
       "      <th>0</th>\n",
       "      <td>http://profilesinterror.mindswap.org/document/...</td>\n",
       "      <td>0</td>\n",
       "      <td>0</td>\n",
       "      <td>0</td>\n",
       "      <td>0</td>\n",
       "      <td>0</td>\n",
       "      <td>0</td>\n",
       "      <td>0</td>\n",
       "      <td>0</td>\n",
       "      <td>0</td>\n",
       "      <td>...</td>\n",
       "      <td>0</td>\n",
       "      <td>0</td>\n",
       "      <td>0</td>\n",
       "      <td>0</td>\n",
       "      <td>0</td>\n",
       "      <td>0</td>\n",
       "      <td>0</td>\n",
       "      <td>0</td>\n",
       "      <td>0</td>\n",
       "      <td>colleague</td>\n",
       "    </tr>\n",
       "  </tbody>\n",
       "</table>\n",
       "<p>1 rows × 1226 columns</p>\n",
       "</div>"
      ],
      "text/plain": [
       "                                                0     1     2     3     4     \\\n",
       "0  http://profilesinterror.mindswap.org/document/...     0     0     0     0   \n",
       "\n",
       "   5     6     7     8     9       ...      1216  1217  1218  1219  1220  \\\n",
       "0     0     0     0     0     0    ...         0     0     0     0     0   \n",
       "\n",
       "   1221  1222  1223  1224       1225  \n",
       "0     0     0     0     0  colleague  \n",
       "\n",
       "[1 rows x 1226 columns]"
      ]
     },
     "metadata": {},
     "output_type": "display_data"
    },
    {
     "data": {
      "text/html": [
       "<div>\n",
       "<style scoped>\n",
       "    .dataframe tbody tr th:only-of-type {\n",
       "        vertical-align: middle;\n",
       "    }\n",
       "\n",
       "    .dataframe tbody tr th {\n",
       "        vertical-align: top;\n",
       "    }\n",
       "\n",
       "    .dataframe thead th {\n",
       "        text-align: right;\n",
       "    }\n",
       "</style>\n",
       "<table border=\"1\" class=\"dataframe\">\n",
       "  <thead>\n",
       "    <tr style=\"text-align: right;\">\n",
       "      <th></th>\n",
       "      <th>0</th>\n",
       "      <th>1</th>\n",
       "      <th>2</th>\n",
       "      <th>3</th>\n",
       "      <th>4</th>\n",
       "      <th>5</th>\n",
       "      <th>6</th>\n",
       "      <th>7</th>\n",
       "      <th>8</th>\n",
       "      <th>9</th>\n",
       "      <th>...</th>\n",
       "      <th>1216</th>\n",
       "      <th>1217</th>\n",
       "      <th>1218</th>\n",
       "      <th>1219</th>\n",
       "      <th>1220</th>\n",
       "      <th>1221</th>\n",
       "      <th>1222</th>\n",
       "      <th>1223</th>\n",
       "      <th>1224</th>\n",
       "      <th>1225</th>\n",
       "    </tr>\n",
       "  </thead>\n",
       "  <tbody>\n",
       "    <tr>\n",
       "      <th>0</th>\n",
       "      <td>http://profilesinterror.mindswap.org/document/...</td>\n",
       "      <td>0</td>\n",
       "      <td>0</td>\n",
       "      <td>0</td>\n",
       "      <td>0</td>\n",
       "      <td>0</td>\n",
       "      <td>0</td>\n",
       "      <td>0</td>\n",
       "      <td>0</td>\n",
       "      <td>0</td>\n",
       "      <td>...</td>\n",
       "      <td>0</td>\n",
       "      <td>0</td>\n",
       "      <td>0</td>\n",
       "      <td>0</td>\n",
       "      <td>0</td>\n",
       "      <td>0</td>\n",
       "      <td>0</td>\n",
       "      <td>0</td>\n",
       "      <td>1</td>\n",
       "      <td>congregate</td>\n",
       "    </tr>\n",
       "  </tbody>\n",
       "</table>\n",
       "<p>1 rows × 1226 columns</p>\n",
       "</div>"
      ],
      "text/plain": [
       "                                                0     1     2     3     4     \\\n",
       "0  http://profilesinterror.mindswap.org/document/...     0     0     0     0   \n",
       "\n",
       "   5     6     7     8     9        ...      1216  1217  1218  1219  1220  \\\n",
       "0     0     0     0     0     0     ...         0     0     0     0     0   \n",
       "\n",
       "   1221  1222  1223  1224        1225  \n",
       "0     0     0     0     1  congregate  \n",
       "\n",
       "[1 rows x 1226 columns]"
      ]
     },
     "metadata": {},
     "output_type": "display_data"
    },
    {
     "data": {
      "text/html": [
       "<div>\n",
       "<style scoped>\n",
       "    .dataframe tbody tr th:only-of-type {\n",
       "        vertical-align: middle;\n",
       "    }\n",
       "\n",
       "    .dataframe tbody tr th {\n",
       "        vertical-align: top;\n",
       "    }\n",
       "\n",
       "    .dataframe thead th {\n",
       "        text-align: right;\n",
       "    }\n",
       "</style>\n",
       "<table border=\"1\" class=\"dataframe\">\n",
       "  <thead>\n",
       "    <tr style=\"text-align: right;\">\n",
       "      <th></th>\n",
       "      <th>0</th>\n",
       "      <th>1</th>\n",
       "      <th>2</th>\n",
       "      <th>3</th>\n",
       "      <th>4</th>\n",
       "      <th>5</th>\n",
       "      <th>6</th>\n",
       "      <th>7</th>\n",
       "      <th>8</th>\n",
       "      <th>9</th>\n",
       "      <th>...</th>\n",
       "      <th>1216</th>\n",
       "      <th>1217</th>\n",
       "      <th>1218</th>\n",
       "      <th>1219</th>\n",
       "      <th>1220</th>\n",
       "      <th>1221</th>\n",
       "      <th>1222</th>\n",
       "      <th>1223</th>\n",
       "      <th>1224</th>\n",
       "      <th>1225</th>\n",
       "    </tr>\n",
       "  </thead>\n",
       "  <tbody>\n",
       "    <tr>\n",
       "      <th>0</th>\n",
       "      <td>http://counterterror.mindswap.org/2005/terrori...</td>\n",
       "      <td>0</td>\n",
       "      <td>0</td>\n",
       "      <td>0</td>\n",
       "      <td>0</td>\n",
       "      <td>0</td>\n",
       "      <td>0</td>\n",
       "      <td>0</td>\n",
       "      <td>0</td>\n",
       "      <td>0</td>\n",
       "      <td>...</td>\n",
       "      <td>0</td>\n",
       "      <td>0</td>\n",
       "      <td>0</td>\n",
       "      <td>0</td>\n",
       "      <td>0</td>\n",
       "      <td>0</td>\n",
       "      <td>0</td>\n",
       "      <td>0</td>\n",
       "      <td>0</td>\n",
       "      <td>contact</td>\n",
       "    </tr>\n",
       "  </tbody>\n",
       "</table>\n",
       "<p>1 rows × 1226 columns</p>\n",
       "</div>"
      ],
      "text/plain": [
       "                                                0     1     2     3     4     \\\n",
       "0  http://counterterror.mindswap.org/2005/terrori...     0     0     0     0   \n",
       "\n",
       "   5     6     7     8     9      ...     1216  1217  1218  1219  1220  1221  \\\n",
       "0     0     0     0     0     0   ...        0     0     0     0     0     0   \n",
       "\n",
       "   1222  1223  1224     1225  \n",
       "0     0     0     0  contact  \n",
       "\n",
       "[1 rows x 1226 columns]"
      ]
     },
     "metadata": {},
     "output_type": "display_data"
    }
   ],
   "source": [
    "display(family.iloc[:1])\n",
    "display(colleague.iloc[:1])\n",
    "display(congregate.iloc[:1])\n",
    "display(contact.iloc[:1])"
   ]
  },
  {
   "cell_type": "markdown",
   "metadata": {},
   "source": [
    "We first verify whether the information contained in these datasets is identical excluding the label indicator column."
   ]
  },
  {
   "cell_type": "code",
   "execution_count": 4,
   "metadata": {},
   "outputs": [],
   "source": [
    "#ensure that they are all sorted in the same order\n",
    "colleague_sorted = colleague.sort_values(0)\n",
    "contact_sorted = contact.sort_values(0)\n",
    "family_sorted = family.sort_values(0)\n",
    "congregate_sorted = congregate.sort_values(0)"
   ]
  },
  {
   "cell_type": "code",
   "execution_count": 5,
   "metadata": {},
   "outputs": [],
   "source": [
    "#retain all but last column\n",
    "all_features = [colleague_sorted.iloc[:,1:1225], contact_sorted.iloc[:,1:1225], \n",
    "                family_sorted.iloc[:,1:1225], congregate_sorted.iloc[:,1:1225]]"
   ]
  },
  {
   "cell_type": "code",
   "execution_count": 6,
   "metadata": {},
   "outputs": [],
   "source": [
    "def all_equal(iterator):\n",
    "    for i in range(len(iterator)):\n",
    "        for j in range(len(iterator)-i):\n",
    "            if i == j:\n",
    "                continue\n",
    "            if np.array_equal(iterator[i], iterator[j]):\n",
    "                continue\n",
    "            else:\n",
    "                return False\n",
    "    return True"
   ]
  },
  {
   "cell_type": "code",
   "execution_count": 7,
   "metadata": {},
   "outputs": [
    {
     "data": {
      "text/plain": [
       "True"
      ]
     },
     "execution_count": 7,
     "metadata": {},
     "output_type": "execute_result"
    }
   ],
   "source": [
    "all_equal(all_features)"
   ]
  },
  {
   "cell_type": "markdown",
   "metadata": {},
   "source": [
    "Hence we can confirm that the data is structured inefficiently and that the colleague, family, congregate and contact nodes data can be aggregated into one table. "
   ]
  },
  {
   "cell_type": "code",
   "execution_count": 8,
   "metadata": {},
   "outputs": [],
   "source": [
    "#only keep id/label information for family, congregate and contact datasets\n",
    "family = family[[0, 1225]]\n",
    "congregate = congregate[[0, 1225]]\n",
    "contact = contact[[0, 1225]]\n",
    "#rename columns\n",
    "colleague = colleague.rename(columns={0: 'url_id', 1225: 'colleague'})\n",
    "family = family.rename(columns={0: 'url_id', 1225: 'family'})\n",
    "congregate = congregate.rename(columns={0: 'url_id', 1225: 'congregate'})\n",
    "contact = contact.rename(columns={0: 'url_id', 1225: 'contact'})"
   ]
  },
  {
   "cell_type": "code",
   "execution_count": 9,
   "metadata": {},
   "outputs": [],
   "source": [
    "#create table containing all feature and label information for each node\n",
    "family = family.set_index('url_id')\n",
    "congregate = congregate.set_index('url_id')\n",
    "contact = contact.set_index('url_id')\n",
    "\n",
    "nodeFeatures = colleague.join(family, on='url_id')\n",
    "nodeFeatures = nodeFeatures.join(congregate, on='url_id')\n",
    "nodeFeatures = nodeFeatures.join(contact, on='url_id')"
   ]
  },
  {
   "cell_type": "code",
   "execution_count": 10,
   "metadata": {},
   "outputs": [],
   "source": [
    "#change labels into binary 0/1\n",
    "nodeFeatures.loc[nodeFeatures['colleague'] == 'colleague', 'colleague'] = 1\n",
    "nodeFeatures.loc[nodeFeatures['colleague'] == 'non-colleague', 'colleague'] = 0\n",
    "nodeFeatures.loc[nodeFeatures['family'] == 'family', 'family'] = 1\n",
    "nodeFeatures.loc[nodeFeatures['family'] == 'non-family', 'family'] = 0\n",
    "nodeFeatures.loc[nodeFeatures['congregate'] == 'congregate', 'congregate'] = 1\n",
    "nodeFeatures.loc[nodeFeatures['congregate'] == 'non-congregate', 'congregate'] = 0\n",
    "nodeFeatures.loc[nodeFeatures['contact'] == 'contact', 'contact'] = 1\n",
    "nodeFeatures.loc[nodeFeatures['contact'] == 'non-contact', 'contact'] = 0"
   ]
  },
  {
   "cell_type": "markdown",
   "metadata": {},
   "source": [
    "Now the variable *nodeFeatures* contains all feature and label information for each node/relation in the terrorist relations network."
   ]
  },
  {
   "cell_type": "code",
   "execution_count": 11,
   "metadata": {
    "scrolled": true
   },
   "outputs": [
    {
     "data": {
      "text/html": [
       "<div>\n",
       "<style scoped>\n",
       "    .dataframe tbody tr th:only-of-type {\n",
       "        vertical-align: middle;\n",
       "    }\n",
       "\n",
       "    .dataframe tbody tr th {\n",
       "        vertical-align: top;\n",
       "    }\n",
       "\n",
       "    .dataframe thead th {\n",
       "        text-align: right;\n",
       "    }\n",
       "</style>\n",
       "<table border=\"1\" class=\"dataframe\">\n",
       "  <thead>\n",
       "    <tr style=\"text-align: right;\">\n",
       "      <th></th>\n",
       "      <th>url_id</th>\n",
       "      <th>1</th>\n",
       "      <th>2</th>\n",
       "      <th>3</th>\n",
       "      <th>4</th>\n",
       "      <th>5</th>\n",
       "      <th>6</th>\n",
       "      <th>7</th>\n",
       "      <th>8</th>\n",
       "      <th>9</th>\n",
       "      <th>...</th>\n",
       "      <th>1219</th>\n",
       "      <th>1220</th>\n",
       "      <th>1221</th>\n",
       "      <th>1222</th>\n",
       "      <th>1223</th>\n",
       "      <th>1224</th>\n",
       "      <th>colleague</th>\n",
       "      <th>family</th>\n",
       "      <th>congregate</th>\n",
       "      <th>contact</th>\n",
       "    </tr>\n",
       "  </thead>\n",
       "  <tbody>\n",
       "    <tr>\n",
       "      <th>0</th>\n",
       "      <td>http://profilesinterror.mindswap.org/document/...</td>\n",
       "      <td>0</td>\n",
       "      <td>0</td>\n",
       "      <td>0</td>\n",
       "      <td>0</td>\n",
       "      <td>0</td>\n",
       "      <td>0</td>\n",
       "      <td>0</td>\n",
       "      <td>0</td>\n",
       "      <td>0</td>\n",
       "      <td>...</td>\n",
       "      <td>0</td>\n",
       "      <td>0</td>\n",
       "      <td>0</td>\n",
       "      <td>0</td>\n",
       "      <td>0</td>\n",
       "      <td>0</td>\n",
       "      <td>1</td>\n",
       "      <td>0</td>\n",
       "      <td>0</td>\n",
       "      <td>0</td>\n",
       "    </tr>\n",
       "    <tr>\n",
       "      <th>1</th>\n",
       "      <td>http://profilesinterror.mindswap.org/document/...</td>\n",
       "      <td>0</td>\n",
       "      <td>0</td>\n",
       "      <td>0</td>\n",
       "      <td>0</td>\n",
       "      <td>0</td>\n",
       "      <td>0</td>\n",
       "      <td>0</td>\n",
       "      <td>0</td>\n",
       "      <td>0</td>\n",
       "      <td>...</td>\n",
       "      <td>0</td>\n",
       "      <td>0</td>\n",
       "      <td>0</td>\n",
       "      <td>0</td>\n",
       "      <td>0</td>\n",
       "      <td>0</td>\n",
       "      <td>1</td>\n",
       "      <td>0</td>\n",
       "      <td>0</td>\n",
       "      <td>0</td>\n",
       "    </tr>\n",
       "    <tr>\n",
       "      <th>2</th>\n",
       "      <td>http://profilesinterror.mindswap.org/document/...</td>\n",
       "      <td>0</td>\n",
       "      <td>0</td>\n",
       "      <td>0</td>\n",
       "      <td>0</td>\n",
       "      <td>0</td>\n",
       "      <td>0</td>\n",
       "      <td>0</td>\n",
       "      <td>0</td>\n",
       "      <td>0</td>\n",
       "      <td>...</td>\n",
       "      <td>0</td>\n",
       "      <td>0</td>\n",
       "      <td>0</td>\n",
       "      <td>0</td>\n",
       "      <td>0</td>\n",
       "      <td>0</td>\n",
       "      <td>1</td>\n",
       "      <td>0</td>\n",
       "      <td>0</td>\n",
       "      <td>0</td>\n",
       "    </tr>\n",
       "    <tr>\n",
       "      <th>3</th>\n",
       "      <td>http://profilesinterror.mindswap.org/document/...</td>\n",
       "      <td>0</td>\n",
       "      <td>0</td>\n",
       "      <td>0</td>\n",
       "      <td>0</td>\n",
       "      <td>0</td>\n",
       "      <td>0</td>\n",
       "      <td>0</td>\n",
       "      <td>0</td>\n",
       "      <td>0</td>\n",
       "      <td>...</td>\n",
       "      <td>0</td>\n",
       "      <td>0</td>\n",
       "      <td>0</td>\n",
       "      <td>0</td>\n",
       "      <td>0</td>\n",
       "      <td>0</td>\n",
       "      <td>1</td>\n",
       "      <td>0</td>\n",
       "      <td>0</td>\n",
       "      <td>0</td>\n",
       "    </tr>\n",
       "    <tr>\n",
       "      <th>4</th>\n",
       "      <td>http://profilesinterror.mindswap.org/document/...</td>\n",
       "      <td>0</td>\n",
       "      <td>0</td>\n",
       "      <td>0</td>\n",
       "      <td>0</td>\n",
       "      <td>1</td>\n",
       "      <td>0</td>\n",
       "      <td>0</td>\n",
       "      <td>0</td>\n",
       "      <td>0</td>\n",
       "      <td>...</td>\n",
       "      <td>0</td>\n",
       "      <td>0</td>\n",
       "      <td>0</td>\n",
       "      <td>0</td>\n",
       "      <td>0</td>\n",
       "      <td>0</td>\n",
       "      <td>1</td>\n",
       "      <td>0</td>\n",
       "      <td>0</td>\n",
       "      <td>0</td>\n",
       "    </tr>\n",
       "  </tbody>\n",
       "</table>\n",
       "<p>5 rows × 1229 columns</p>\n",
       "</div>"
      ],
      "text/plain": [
       "                                              url_id  1  2  3  4  5  6  7  8  \\\n",
       "0  http://profilesinterror.mindswap.org/document/...  0  0  0  0  0  0  0  0   \n",
       "1  http://profilesinterror.mindswap.org/document/...  0  0  0  0  0  0  0  0   \n",
       "2  http://profilesinterror.mindswap.org/document/...  0  0  0  0  0  0  0  0   \n",
       "3  http://profilesinterror.mindswap.org/document/...  0  0  0  0  0  0  0  0   \n",
       "4  http://profilesinterror.mindswap.org/document/...  0  0  0  0  1  0  0  0   \n",
       "\n",
       "   9   ...     1219  1220  1221  1222  1223  1224  colleague  family  \\\n",
       "0  0   ...        0     0     0     0     0     0          1       0   \n",
       "1  0   ...        0     0     0     0     0     0          1       0   \n",
       "2  0   ...        0     0     0     0     0     0          1       0   \n",
       "3  0   ...        0     0     0     0     0     0          1       0   \n",
       "4  0   ...        0     0     0     0     0     0          1       0   \n",
       "\n",
       "   congregate  contact  \n",
       "0           0        0  \n",
       "1           0        0  \n",
       "2           0        0  \n",
       "3           0        0  \n",
       "4           0        0  \n",
       "\n",
       "[5 rows x 1229 columns]"
      ]
     },
     "execution_count": 11,
     "metadata": {},
     "output_type": "execute_result"
    }
   ],
   "source": [
    "nodeFeatures.head()"
   ]
  },
  {
   "cell_type": "markdown",
   "metadata": {},
   "source": [
    "We can also observe below, that initally it appears that we have mutually exlusive labels. This means that every relation is either labeled colleague, family, congregate or contact. However, we will see later on that this isn't the case."
   ]
  },
  {
   "cell_type": "code",
   "execution_count": 12,
   "metadata": {},
   "outputs": [
    {
     "data": {
      "text/plain": [
       "851"
      ]
     },
     "execution_count": 12,
     "metadata": {},
     "output_type": "execute_result"
    }
   ],
   "source": [
    "len(np.where(np.sum(np.array(nodeFeatures.iloc[:,1225:]), axis=1)==1)[0])"
   ]
  },
  {
   "cell_type": "markdown",
   "metadata": {},
   "source": [
    "### b. Data parsing"
   ]
  },
  {
   "cell_type": "markdown",
   "metadata": {},
   "source": [
    "As the *nodeFeatures* dataset currently holds all the information we have, in the following cells we create new reference tables that capture a subset of its data:\n",
    "-  *terrorists*: contains all unique terrorists in our dataset and for each terrorist it lists his original url_id, a newly assigned numerical id and his name (when one can be found in the url_id) \n",
    "-  *relations*: captures all the data in *nodeFeatures* except for the binary feature columns and has a separate column for each terrorist in the relation listing their respective name and numerical id"
   ]
  },
  {
   "cell_type": "code",
   "execution_count": 13,
   "metadata": {},
   "outputs": [],
   "source": [
    "terrorists = []\n",
    "relations = []\n",
    "\n",
    "for i in range(len(nodeFeatures.iloc[:,0])):\n",
    "    parsedNode = nodeFeatures.iloc[:,0].iloc[i].split('_http')\n",
    "    parsedNode[1] = 'http' + parsedNode[1]\n",
    "    \n",
    "    relations.append((nodeFeatures.iloc[:,1225][i], nodeFeatures.iloc[:,1226][i],\n",
    "                      nodeFeatures.iloc[:,1227][i], nodeFeatures.iloc[:,1228][i], parsedNode[0], parsedNode[1]))\n",
    "    \n",
    "    firstPerson = parsedNode[0].rsplit('#',1)[1]\n",
    "    secondPerson = parsedNode[1].rsplit('#',1)[1]\n",
    "    \n",
    "    if firstPerson == '':\n",
    "        firstPerson = parsedNode[0].split('/',4)[-1]\n",
    "    if secondPerson == '':\n",
    "        secondPerson = parsedNode[1].split('/',4)[-1]\n",
    "     \n",
    "    terrorists.append((parsedNode[0], firstPerson))\n",
    "    terrorists.append((parsedNode[1], secondPerson))\n",
    "    \n",
    "terrorists = np.unique(terrorists, axis=0)"
   ]
  },
  {
   "cell_type": "code",
   "execution_count": 14,
   "metadata": {},
   "outputs": [
    {
     "data": {
      "text/html": [
       "<div>\n",
       "<style scoped>\n",
       "    .dataframe tbody tr th:only-of-type {\n",
       "        vertical-align: middle;\n",
       "    }\n",
       "\n",
       "    .dataframe tbody tr th {\n",
       "        vertical-align: top;\n",
       "    }\n",
       "\n",
       "    .dataframe thead th {\n",
       "        text-align: right;\n",
       "    }\n",
       "</style>\n",
       "<table border=\"1\" class=\"dataframe\">\n",
       "  <thead>\n",
       "    <tr style=\"text-align: right;\">\n",
       "      <th></th>\n",
       "      <th>num_index</th>\n",
       "      <th>name</th>\n",
       "    </tr>\n",
       "    <tr>\n",
       "      <th>url_index</th>\n",
       "      <th></th>\n",
       "      <th></th>\n",
       "    </tr>\n",
       "  </thead>\n",
       "  <tbody>\n",
       "    <tr>\n",
       "      <th>http://counterterror.mindswap.org/2005/terrorists.owl#Abdel_Qader_Mahmoud_Es_Sayed</th>\n",
       "      <td>0</td>\n",
       "      <td>Abdel_Qader_Mahmoud_Es_Sayed</td>\n",
       "    </tr>\n",
       "    <tr>\n",
       "      <th>http://counterterror.mindswap.org/2005/terrorists.owl#Abderraouf_Hannachi</th>\n",
       "      <td>1</td>\n",
       "      <td>Abderraouf_Hannachi</td>\n",
       "    </tr>\n",
       "    <tr>\n",
       "      <th>http://counterterror.mindswap.org/2005/terrorists.owl#Abdul_Haim_Murad</th>\n",
       "      <td>2</td>\n",
       "      <td>Abdul_Haim_Murad</td>\n",
       "    </tr>\n",
       "    <tr>\n",
       "      <th>http://counterterror.mindswap.org/2005/terrorists.owl#Ahmed_Said_Khadr</th>\n",
       "      <td>3</td>\n",
       "      <td>Ahmed_Said_Khadr</td>\n",
       "    </tr>\n",
       "    <tr>\n",
       "      <th>http://counterterror.mindswap.org/2005/terrorists.owl#Amar_Makhulif</th>\n",
       "      <td>4</td>\n",
       "      <td>Amar_Makhulif</td>\n",
       "    </tr>\n",
       "  </tbody>\n",
       "</table>\n",
       "</div>"
      ],
      "text/plain": [
       "                                                    num_index  \\\n",
       "url_index                                                       \n",
       "http://counterterror.mindswap.org/2005/terroris...          0   \n",
       "http://counterterror.mindswap.org/2005/terroris...          1   \n",
       "http://counterterror.mindswap.org/2005/terroris...          2   \n",
       "http://counterterror.mindswap.org/2005/terroris...          3   \n",
       "http://counterterror.mindswap.org/2005/terroris...          4   \n",
       "\n",
       "                                                                            name  \n",
       "url_index                                                                         \n",
       "http://counterterror.mindswap.org/2005/terroris...  Abdel_Qader_Mahmoud_Es_Sayed  \n",
       "http://counterterror.mindswap.org/2005/terroris...           Abderraouf_Hannachi  \n",
       "http://counterterror.mindswap.org/2005/terroris...              Abdul_Haim_Murad  \n",
       "http://counterterror.mindswap.org/2005/terroris...              Ahmed_Said_Khadr  \n",
       "http://counterterror.mindswap.org/2005/terroris...                 Amar_Makhulif  "
      ]
     },
     "execution_count": 14,
     "metadata": {},
     "output_type": "execute_result"
    }
   ],
   "source": [
    "terrorists = pd.DataFrame(terrorists)\n",
    "terrorists.reset_index(level=0, inplace=True)\n",
    "terrorists = terrorists.rename(columns={'index':'num_index', 0:'url_index', 1:'name'})\n",
    "terrorists = terrorists.set_index('url_index')\n",
    "terrorists.head()"
   ]
  },
  {
   "cell_type": "code",
   "execution_count": 15,
   "metadata": {},
   "outputs": [],
   "source": [
    "relations = pd.DataFrame(relations)\n",
    "relations = relations.rename(columns={0:'colleague', 1:'family', 2:'congregate', 3:'contact', \n",
    "                                      4:'url_index_1', 5:'url_index_2' })\n",
    "relations = relations.join(terrorists, on='url_index_1', how='left')\n",
    "relations = relations.join(terrorists, on='url_index_2', rsuffix = '_2', how='left')\n",
    "relations = relations.rename(columns={'num_index': 'num_index_1', 'name':'name_1'})\n",
    "relations['rel_url'] = relations['url_index_1'] + '_' + relations['url_index_2']\n",
    "relations = relations.drop(columns=['url_index_1', 'url_index_2'])"
   ]
  },
  {
   "cell_type": "code",
   "execution_count": 16,
   "metadata": {},
   "outputs": [
    {
     "data": {
      "text/html": [
       "<div>\n",
       "<style scoped>\n",
       "    .dataframe tbody tr th:only-of-type {\n",
       "        vertical-align: middle;\n",
       "    }\n",
       "\n",
       "    .dataframe tbody tr th {\n",
       "        vertical-align: top;\n",
       "    }\n",
       "\n",
       "    .dataframe thead th {\n",
       "        text-align: right;\n",
       "    }\n",
       "</style>\n",
       "<table border=\"1\" class=\"dataframe\">\n",
       "  <thead>\n",
       "    <tr style=\"text-align: right;\">\n",
       "      <th></th>\n",
       "      <th>colleague</th>\n",
       "      <th>family</th>\n",
       "      <th>congregate</th>\n",
       "      <th>contact</th>\n",
       "      <th>num_index_1</th>\n",
       "      <th>num_index_2</th>\n",
       "      <th>name_1</th>\n",
       "      <th>name_2</th>\n",
       "      <th>rel_url</th>\n",
       "    </tr>\n",
       "  </thead>\n",
       "  <tbody>\n",
       "    <tr>\n",
       "      <th>0</th>\n",
       "      <td>1</td>\n",
       "      <td>0</td>\n",
       "      <td>0</td>\n",
       "      <td>0</td>\n",
       "      <td>231</td>\n",
       "      <td>63</td>\n",
       "      <td>UmarBaziyani</td>\n",
       "      <td>Saif_Aldin_Mustafa_Nuaimi</td>\n",
       "      <td>http://profilesinterror.mindswap.org/document/...</td>\n",
       "    </tr>\n",
       "    <tr>\n",
       "      <th>1</th>\n",
       "      <td>1</td>\n",
       "      <td>0</td>\n",
       "      <td>0</td>\n",
       "      <td>0</td>\n",
       "      <td>62</td>\n",
       "      <td>63</td>\n",
       "      <td>Muhammad_Daham_Abu_Hamadi</td>\n",
       "      <td>Saif_Aldin_Mustafa_Nuaimi</td>\n",
       "      <td>http://profilesinterror.mindswap.org/document/...</td>\n",
       "    </tr>\n",
       "    <tr>\n",
       "      <th>2</th>\n",
       "      <td>1</td>\n",
       "      <td>0</td>\n",
       "      <td>0</td>\n",
       "      <td>0</td>\n",
       "      <td>60</td>\n",
       "      <td>63</td>\n",
       "      <td>Abu_Karrar</td>\n",
       "      <td>Saif_Aldin_Mustafa_Nuaimi</td>\n",
       "      <td>http://profilesinterror.mindswap.org/document/...</td>\n",
       "    </tr>\n",
       "    <tr>\n",
       "      <th>3</th>\n",
       "      <td>1</td>\n",
       "      <td>0</td>\n",
       "      <td>0</td>\n",
       "      <td>0</td>\n",
       "      <td>59</td>\n",
       "      <td>63</td>\n",
       "      <td>Abu_Jalal_Iraqi</td>\n",
       "      <td>Saif_Aldin_Mustafa_Nuaimi</td>\n",
       "      <td>http://profilesinterror.mindswap.org/document/...</td>\n",
       "    </tr>\n",
       "    <tr>\n",
       "      <th>4</th>\n",
       "      <td>1</td>\n",
       "      <td>0</td>\n",
       "      <td>0</td>\n",
       "      <td>0</td>\n",
       "      <td>232</td>\n",
       "      <td>61</td>\n",
       "      <td>Zarqawi</td>\n",
       "      <td>Abu_Obaida_Kubaisi</td>\n",
       "      <td>http://profilesinterror.mindswap.org/document/...</td>\n",
       "    </tr>\n",
       "  </tbody>\n",
       "</table>\n",
       "</div>"
      ],
      "text/plain": [
       "   colleague  family  congregate  contact  num_index_1  num_index_2  \\\n",
       "0          1       0           0        0          231           63   \n",
       "1          1       0           0        0           62           63   \n",
       "2          1       0           0        0           60           63   \n",
       "3          1       0           0        0           59           63   \n",
       "4          1       0           0        0          232           61   \n",
       "\n",
       "                      name_1                     name_2  \\\n",
       "0               UmarBaziyani  Saif_Aldin_Mustafa_Nuaimi   \n",
       "1  Muhammad_Daham_Abu_Hamadi  Saif_Aldin_Mustafa_Nuaimi   \n",
       "2                 Abu_Karrar  Saif_Aldin_Mustafa_Nuaimi   \n",
       "3            Abu_Jalal_Iraqi  Saif_Aldin_Mustafa_Nuaimi   \n",
       "4                    Zarqawi         Abu_Obaida_Kubaisi   \n",
       "\n",
       "                                             rel_url  \n",
       "0  http://profilesinterror.mindswap.org/document/...  \n",
       "1  http://profilesinterror.mindswap.org/document/...  \n",
       "2  http://profilesinterror.mindswap.org/document/...  \n",
       "3  http://profilesinterror.mindswap.org/document/...  \n",
       "4  http://profilesinterror.mindswap.org/document/...  "
      ]
     },
     "execution_count": 16,
     "metadata": {},
     "output_type": "execute_result"
    }
   ],
   "source": [
    "relations = relations[['colleague', 'family', 'congregate', 'contact', 'num_index_1', 'num_index_2',\n",
    "                       'name_1', 'name_2', 'rel_url']]\n",
    "relations.head()"
   ]
  },
  {
   "cell_type": "markdown",
   "metadata": {},
   "source": [
    "Additionally, as the Terrorist Relations dataset provides no information on the meaning of the present binary features we attempted to collect more information on these by searching online. We came across a paper (referenced in our report) that stated that the 1224 binary features actually consisted of 2 sets of 612 distinct features. The first 612 relate to the first terrorist in the relation and the remaining for the second. As such, we verified whether this statement was correct. In the cells below, we split the sets of features as described and assign them to their respective terrorist. The number of unique combinations of terrorist name/id and 612 features matches the number of entries in the *terrorists* table validating this understanding."
   ]
  },
  {
   "cell_type": "code",
   "execution_count": 17,
   "metadata": {},
   "outputs": [],
   "source": [
    "relationsCopy = relations.copy()\n",
    "relationsCopy.reset_index(level=0, inplace=True)\n",
    "relationsCopy = relationsCopy.set_index('rel_url')\n",
    "relationsCopy = relationsCopy.drop(columns=['colleague', 'family', 'congregate', 'contact', 'index'])"
   ]
  },
  {
   "cell_type": "code",
   "execution_count": 18,
   "metadata": {},
   "outputs": [],
   "source": [
    "nodeFeatures = nodeFeatures.join(relationsCopy, on='url_id', how='left')"
   ]
  },
  {
   "cell_type": "code",
   "execution_count": 19,
   "metadata": {},
   "outputs": [],
   "source": [
    "features_set1 = list(range(1,613))\n",
    "features_set1.insert(0, 1229)\n",
    "features_set1.insert(0, 1231)\n",
    "features_set2 = list(range(613,1225))\n",
    "features_set2.insert(0, 1230)\n",
    "features_set2.insert(0, 1232)"
   ]
  },
  {
   "cell_type": "code",
   "execution_count": 20,
   "metadata": {},
   "outputs": [],
   "source": [
    "features_set1 = nodeFeatures.iloc[:,features_set1].drop_duplicates()\n",
    "features_set2 = nodeFeatures.iloc[:,features_set2].drop_duplicates()\n",
    "features_set1.columns = np.arange(len(features_set1.columns))\n",
    "features_set2.columns = np.arange(len(features_set2.columns))"
   ]
  },
  {
   "cell_type": "code",
   "execution_count": 21,
   "metadata": {},
   "outputs": [],
   "source": [
    "terrorist_features = pd.concat([features_set1, features_set2], sort=False)\n",
    "terrorist_features = terrorist_features.drop_duplicates()\n",
    "terrorist_features = terrorist_features.set_index(0)\n",
    "terrorist_features = terrorist_features.sort_values(by=[1])\n",
    "terrorist_features = terrorist_features.rename(columns={1: 'num_index'})"
   ]
  },
  {
   "cell_type": "code",
   "execution_count": 22,
   "metadata": {
    "scrolled": true
   },
   "outputs": [
    {
     "data": {
      "text/html": [
       "<div>\n",
       "<style scoped>\n",
       "    .dataframe tbody tr th:only-of-type {\n",
       "        vertical-align: middle;\n",
       "    }\n",
       "\n",
       "    .dataframe tbody tr th {\n",
       "        vertical-align: top;\n",
       "    }\n",
       "\n",
       "    .dataframe thead th {\n",
       "        text-align: right;\n",
       "    }\n",
       "</style>\n",
       "<table border=\"1\" class=\"dataframe\">\n",
       "  <thead>\n",
       "    <tr style=\"text-align: right;\">\n",
       "      <th></th>\n",
       "      <th>num_index</th>\n",
       "      <th>2</th>\n",
       "      <th>3</th>\n",
       "      <th>4</th>\n",
       "      <th>5</th>\n",
       "      <th>6</th>\n",
       "      <th>7</th>\n",
       "      <th>8</th>\n",
       "      <th>9</th>\n",
       "      <th>10</th>\n",
       "      <th>...</th>\n",
       "      <th>604</th>\n",
       "      <th>605</th>\n",
       "      <th>606</th>\n",
       "      <th>607</th>\n",
       "      <th>608</th>\n",
       "      <th>609</th>\n",
       "      <th>610</th>\n",
       "      <th>611</th>\n",
       "      <th>612</th>\n",
       "      <th>613</th>\n",
       "    </tr>\n",
       "    <tr>\n",
       "      <th>0</th>\n",
       "      <th></th>\n",
       "      <th></th>\n",
       "      <th></th>\n",
       "      <th></th>\n",
       "      <th></th>\n",
       "      <th></th>\n",
       "      <th></th>\n",
       "      <th></th>\n",
       "      <th></th>\n",
       "      <th></th>\n",
       "      <th></th>\n",
       "      <th></th>\n",
       "      <th></th>\n",
       "      <th></th>\n",
       "      <th></th>\n",
       "      <th></th>\n",
       "      <th></th>\n",
       "      <th></th>\n",
       "      <th></th>\n",
       "      <th></th>\n",
       "      <th></th>\n",
       "    </tr>\n",
       "  </thead>\n",
       "  <tbody>\n",
       "    <tr>\n",
       "      <th>Abdel_Qader_Mahmoud_Es_Sayed</th>\n",
       "      <td>0</td>\n",
       "      <td>0</td>\n",
       "      <td>0</td>\n",
       "      <td>0</td>\n",
       "      <td>0</td>\n",
       "      <td>0</td>\n",
       "      <td>0</td>\n",
       "      <td>0</td>\n",
       "      <td>0</td>\n",
       "      <td>0</td>\n",
       "      <td>...</td>\n",
       "      <td>0</td>\n",
       "      <td>0</td>\n",
       "      <td>0</td>\n",
       "      <td>0</td>\n",
       "      <td>0</td>\n",
       "      <td>0</td>\n",
       "      <td>0</td>\n",
       "      <td>0</td>\n",
       "      <td>0</td>\n",
       "      <td>0</td>\n",
       "    </tr>\n",
       "    <tr>\n",
       "      <th>Abderraouf_Hannachi</th>\n",
       "      <td>1</td>\n",
       "      <td>0</td>\n",
       "      <td>0</td>\n",
       "      <td>0</td>\n",
       "      <td>0</td>\n",
       "      <td>0</td>\n",
       "      <td>0</td>\n",
       "      <td>0</td>\n",
       "      <td>0</td>\n",
       "      <td>0</td>\n",
       "      <td>...</td>\n",
       "      <td>0</td>\n",
       "      <td>0</td>\n",
       "      <td>0</td>\n",
       "      <td>0</td>\n",
       "      <td>0</td>\n",
       "      <td>0</td>\n",
       "      <td>0</td>\n",
       "      <td>0</td>\n",
       "      <td>0</td>\n",
       "      <td>0</td>\n",
       "    </tr>\n",
       "    <tr>\n",
       "      <th>Abdul_Haim_Murad</th>\n",
       "      <td>2</td>\n",
       "      <td>0</td>\n",
       "      <td>0</td>\n",
       "      <td>0</td>\n",
       "      <td>0</td>\n",
       "      <td>0</td>\n",
       "      <td>0</td>\n",
       "      <td>0</td>\n",
       "      <td>0</td>\n",
       "      <td>0</td>\n",
       "      <td>...</td>\n",
       "      <td>0</td>\n",
       "      <td>0</td>\n",
       "      <td>0</td>\n",
       "      <td>0</td>\n",
       "      <td>0</td>\n",
       "      <td>0</td>\n",
       "      <td>0</td>\n",
       "      <td>0</td>\n",
       "      <td>0</td>\n",
       "      <td>0</td>\n",
       "    </tr>\n",
       "    <tr>\n",
       "      <th>Ahmed_Said_Khadr</th>\n",
       "      <td>3</td>\n",
       "      <td>0</td>\n",
       "      <td>0</td>\n",
       "      <td>0</td>\n",
       "      <td>0</td>\n",
       "      <td>0</td>\n",
       "      <td>0</td>\n",
       "      <td>0</td>\n",
       "      <td>0</td>\n",
       "      <td>0</td>\n",
       "      <td>...</td>\n",
       "      <td>0</td>\n",
       "      <td>0</td>\n",
       "      <td>0</td>\n",
       "      <td>0</td>\n",
       "      <td>0</td>\n",
       "      <td>0</td>\n",
       "      <td>0</td>\n",
       "      <td>0</td>\n",
       "      <td>0</td>\n",
       "      <td>0</td>\n",
       "    </tr>\n",
       "    <tr>\n",
       "      <th>Amar_Makhulif</th>\n",
       "      <td>4</td>\n",
       "      <td>0</td>\n",
       "      <td>0</td>\n",
       "      <td>0</td>\n",
       "      <td>0</td>\n",
       "      <td>0</td>\n",
       "      <td>0</td>\n",
       "      <td>0</td>\n",
       "      <td>0</td>\n",
       "      <td>0</td>\n",
       "      <td>...</td>\n",
       "      <td>0</td>\n",
       "      <td>0</td>\n",
       "      <td>0</td>\n",
       "      <td>0</td>\n",
       "      <td>0</td>\n",
       "      <td>0</td>\n",
       "      <td>0</td>\n",
       "      <td>0</td>\n",
       "      <td>0</td>\n",
       "      <td>0</td>\n",
       "    </tr>\n",
       "  </tbody>\n",
       "</table>\n",
       "<p>5 rows × 613 columns</p>\n",
       "</div>"
      ],
      "text/plain": [
       "                              num_index  2  3  4  5  6  7  8  9  10 ...   604  \\\n",
       "0                                                                   ...         \n",
       "Abdel_Qader_Mahmoud_Es_Sayed          0  0  0  0  0  0  0  0  0   0 ...     0   \n",
       "Abderraouf_Hannachi                   1  0  0  0  0  0  0  0  0   0 ...     0   \n",
       "Abdul_Haim_Murad                      2  0  0  0  0  0  0  0  0   0 ...     0   \n",
       "Ahmed_Said_Khadr                      3  0  0  0  0  0  0  0  0   0 ...     0   \n",
       "Amar_Makhulif                         4  0  0  0  0  0  0  0  0   0 ...     0   \n",
       "\n",
       "                              605  606  607  608  609  610  611  612  613  \n",
       "0                                                                          \n",
       "Abdel_Qader_Mahmoud_Es_Sayed    0    0    0    0    0    0    0    0    0  \n",
       "Abderraouf_Hannachi             0    0    0    0    0    0    0    0    0  \n",
       "Abdul_Haim_Murad                0    0    0    0    0    0    0    0    0  \n",
       "Ahmed_Said_Khadr                0    0    0    0    0    0    0    0    0  \n",
       "Amar_Makhulif                   0    0    0    0    0    0    0    0    0  \n",
       "\n",
       "[5 rows x 613 columns]"
      ]
     },
     "execution_count": 22,
     "metadata": {},
     "output_type": "execute_result"
    }
   ],
   "source": [
    "terrorist_features.head()"
   ]
  },
  {
   "cell_type": "markdown",
   "metadata": {},
   "source": [
    "### c. Dual graph"
   ]
  },
  {
   "cell_type": "markdown",
   "metadata": {},
   "source": [
    "From our newly constructed datasets, it is now simple to construct the dual of our graph. The dual has nodes as terrorists and edges as relations as opposed to our original Link Graph. The dual graph shares the traditional structure of social network graphs and is equivalent to our initial Terrorist Relations network. It will be useful for our network analyses later on. We construct it in the cells below."
   ]
  },
  {
   "cell_type": "code",
   "execution_count": 23,
   "metadata": {},
   "outputs": [],
   "source": [
    "n_nodes = len(terrorists)\n",
    "adjacency_dual = np.zeros((n_nodes, n_nodes), dtype=int)"
   ]
  },
  {
   "cell_type": "code",
   "execution_count": 24,
   "metadata": {},
   "outputs": [],
   "source": [
    "for idx, row in relations.iterrows():\n",
    "    i, j = int(row.num_index_1), int(row.num_index_2)\n",
    "    adjacency_dual[i, j] = 1\n",
    "    adjacency_dual[j, i] = 1"
   ]
  },
  {
   "cell_type": "code",
   "execution_count": 25,
   "metadata": {
    "scrolled": false
   },
   "outputs": [
    {
     "data": {
      "image/png": "[encoded data removed]",
      "text/plain": [
       "<Figure size 432x288 with 1 Axes>"
      ]
     },
     "metadata": {},
     "output_type": "display_data"
    }
   ],
   "source": [
    "plt.title('Dual Adjancecy')\n",
    "plt.spy(adjacency_dual, markersize=1)\n",
    "plt.show()"
   ]
  },
  {
   "cell_type": "markdown",
   "metadata": {},
   "source": [
    "Since the dual graph has nodes as terrorists and edges as relations we expected 244 nodes (number of rows in *terrorists*) and 851 edges (number of rows in *relations*). However, we observed that there was in fact 840 edges in our dual graph indicating that some of the relationships in the variable *relations* and the original dataset were actually mirrored (i.e. A<->B & B<->A). This also suggests the existence of multi-labels for relationships."
   ]
  },
  {
   "cell_type": "code",
   "execution_count": 26,
   "metadata": {},
   "outputs": [
    {
     "data": {
      "text/plain": [
       "840.0"
      ]
     },
     "execution_count": 26,
     "metadata": {},
     "output_type": "execute_result"
    }
   ],
   "source": [
    "sum(sum(adjacency_dual))/2"
   ]
  },
  {
   "cell_type": "markdown",
   "metadata": {},
   "source": [
    "### d. Edges from Nodes"
   ]
  },
  {
   "cell_type": "markdown",
   "metadata": {},
   "source": [
    "As mentioned when loading the datasets, we encountered inconsistencies in the supplied edges dataset during the milestones and decided to construct the edges ourselves from the nodes data. This was feasible since we have a Link Graph. This means our nodes are relations between two terrorists and two nodes share an edge if they share a terrorist. We also removed those relationships that are mirrored (11) to construct a Link Graph with a reduced number of nodes (840). With this logic we constructed the edges in the cells below."
   ]
  },
  {
   "cell_type": "code",
   "execution_count": 27,
   "metadata": {},
   "outputs": [],
   "source": [
    "#get indices of mirrored relations and get unique list of relations\n",
    "containerSet = set()\n",
    "dupes1 = []\n",
    "\n",
    "for i in range(relations.shape[0]):\n",
    "    setSize = len(containerSet)\n",
    "    containerSet.add(frozenset((relations.iloc[i,4], relations.iloc[i,5])))\n",
    "    if len(containerSet) == setSize:\n",
    "        dupes1.append(i)\n",
    "    \n",
    "relations_array = np.delete(np.array(relations)[:,4:6], dupes1, axis=0)"
   ]
  },
  {
   "cell_type": "code",
   "execution_count": 28,
   "metadata": {},
   "outputs": [
    {
     "name": "stdout",
     "output_type": "stream",
     "text": [
      "Number of mirrored relations: 11\n"
     ]
    }
   ],
   "source": [
    "print('Number of mirrored relations:', len(dupes1))"
   ]
  },
  {
   "cell_type": "code",
   "execution_count": 29,
   "metadata": {},
   "outputs": [],
   "source": [
    "#flip terrorists in mirrored relations and get indices of their duplicates\n",
    "mirrors = np.vstack((np.array(relations.iloc[dupes1])[:,5],np.array(relations.iloc[dupes1])[:,4])).T\n",
    "mirrors = [list(x) for x in mirrors]\n",
    "allRels = [list(x) for x in np.array(relations.iloc[:,4:6])]\n",
    "\n",
    "dupes2 = []\n",
    "for i in range(len(allRels)):\n",
    "    if allRels[i] in mirrors:\n",
    "        dupes2.append(i)"
   ]
  },
  {
   "cell_type": "code",
   "execution_count": 30,
   "metadata": {},
   "outputs": [],
   "source": [
    "#generate edges from relations_array above\n",
    "edges= set()\n",
    "for i in range(len(relations_array)):\n",
    "    for j in range(len(relations_array)):\n",
    "        if i == j:\n",
    "            continue\n",
    "        for e in range(0,2):\n",
    "            if relations_array[i][e] in list(relations_array[j]):\n",
    "                edges.add(frozenset((i,j)))\n",
    "                \n",
    "edges = [list(x) for x in edges]"
   ]
  },
  {
   "cell_type": "markdown",
   "metadata": {},
   "source": [
    "Construct adjacency of our original network with unique nodes (i.e. unique relations)"
   ]
  },
  {
   "cell_type": "code",
   "execution_count": 31,
   "metadata": {},
   "outputs": [],
   "source": [
    "adjacency = np.zeros((len(relations_array), len(relations_array)))\n",
    "\n",
    "for p in edges:\n",
    "    adjacency[p[0],p[1]] = 1\n",
    "    adjacency[p[1],p[0]] = 1"
   ]
  },
  {
   "cell_type": "code",
   "execution_count": 32,
   "metadata": {
    "scrolled": true
   },
   "outputs": [
    {
     "data": {
      "image/png": "[encoded data removed]",
      "text/plain": [
       "<Figure size 432x288 with 1 Axes>"
      ]
     },
     "metadata": {},
     "output_type": "display_data"
    }
   ],
   "source": [
    "plt.title('Link Graph Adjancecy')\n",
    "plt.spy(adjacency, markersize=1)\n",
    "plt.show()"
   ]
  },
  {
   "cell_type": "markdown",
   "metadata": {},
   "source": [
    "### e. Data restructuring"
   ]
  },
  {
   "cell_type": "markdown",
   "metadata": {},
   "source": [
    "As we have identified that there are duplicate relations in our *relations* variable, we want to remove these and aggregate their label information in one entry. Therefore, we create the *relations_compact* variable that contains 840 unique relations and those rows where the relations were mirrored will now have multiple labels."
   ]
  },
  {
   "cell_type": "code",
   "execution_count": 33,
   "metadata": {},
   "outputs": [],
   "source": [
    "#flip mirrored relations to match their original\n",
    "newData = []\n",
    "for i in range(relations.shape[0]):\n",
    "    if i in dupes1:\n",
    "        relInfo = list(relations.iloc[i,0:4])\n",
    "        relInfo.append(relations.iloc[i,5])\n",
    "        relInfo.append(relations.iloc[i,4])\n",
    "        relInfo.append(relations.iloc[i,7])\n",
    "        relInfo.append(relations.iloc[i,6])\n",
    "        relInfo.append(relations.iloc[i,8])\n",
    "        newData.append(relInfo)\n",
    "    else:\n",
    "        newData.append(list(relations.iloc[i]))"
   ]
  },
  {
   "cell_type": "code",
   "execution_count": 34,
   "metadata": {
    "scrolled": true
   },
   "outputs": [],
   "source": [
    "#for duplicate relations aggregate label info into one row and remove the other\n",
    "for i in dupes1:\n",
    "    for j in dupes2:\n",
    "        if list(newData[i][4:6]) == list(newData[j][4:6]):\n",
    "            newData[j][0] = newData[j][0] + newData[i][0]\n",
    "            newData[j][1] = newData[j][1] + newData[i][1]\n",
    "            newData[j][2] = newData[j][2] + newData[i][2]\n",
    "            newData[j][3] = newData[j][3] + newData[i][3]\n",
    "            \n",
    "newData = [i for j, i in enumerate(newData) if j not in dupes1]"
   ]
  },
  {
   "cell_type": "code",
   "execution_count": 35,
   "metadata": {},
   "outputs": [
    {
     "data": {
      "text/html": [
       "<div>\n",
       "<style scoped>\n",
       "    .dataframe tbody tr th:only-of-type {\n",
       "        vertical-align: middle;\n",
       "    }\n",
       "\n",
       "    .dataframe tbody tr th {\n",
       "        vertical-align: top;\n",
       "    }\n",
       "\n",
       "    .dataframe thead th {\n",
       "        text-align: right;\n",
       "    }\n",
       "</style>\n",
       "<table border=\"1\" class=\"dataframe\">\n",
       "  <thead>\n",
       "    <tr style=\"text-align: right;\">\n",
       "      <th></th>\n",
       "      <th>colleague</th>\n",
       "      <th>family</th>\n",
       "      <th>congregate</th>\n",
       "      <th>contact</th>\n",
       "      <th>num_index_1</th>\n",
       "      <th>num_index_2</th>\n",
       "      <th>name_1</th>\n",
       "      <th>name_2</th>\n",
       "      <th>rel_url</th>\n",
       "    </tr>\n",
       "  </thead>\n",
       "  <tbody>\n",
       "    <tr>\n",
       "      <th>51</th>\n",
       "      <td>1</td>\n",
       "      <td>0</td>\n",
       "      <td>0</td>\n",
       "      <td>1</td>\n",
       "      <td>213</td>\n",
       "      <td>39</td>\n",
       "      <td>Zawahiri</td>\n",
       "      <td>OBL</td>\n",
       "      <td>http://profilesinterror.mindswap.org/document/...</td>\n",
       "    </tr>\n",
       "    <tr>\n",
       "      <th>159</th>\n",
       "      <td>1</td>\n",
       "      <td>0</td>\n",
       "      <td>0</td>\n",
       "      <td>1</td>\n",
       "      <td>18</td>\n",
       "      <td>14</td>\n",
       "      <td>Moulad_Bouguelane</td>\n",
       "      <td>Lionel_Dumont</td>\n",
       "      <td>http://counterterror.mindswap.org/2005/terrori...</td>\n",
       "    </tr>\n",
       "    <tr>\n",
       "      <th>162</th>\n",
       "      <td>1</td>\n",
       "      <td>0</td>\n",
       "      <td>0</td>\n",
       "      <td>1</td>\n",
       "      <td>40</td>\n",
       "      <td>41</td>\n",
       "      <td>AhmadAjaj</td>\n",
       "      <td>EyadIsmoil</td>\n",
       "      <td>http://profilesinterror.mindswap.org/document/...</td>\n",
       "    </tr>\n",
       "    <tr>\n",
       "      <th>167</th>\n",
       "      <td>1</td>\n",
       "      <td>0</td>\n",
       "      <td>0</td>\n",
       "      <td>1</td>\n",
       "      <td>221</td>\n",
       "      <td>224</td>\n",
       "      <td>FathiKhatib</td>\n",
       "      <td>NasserWatimi</td>\n",
       "      <td>http://profilesinterror.mindswap.org/document/...</td>\n",
       "    </tr>\n",
       "    <tr>\n",
       "      <th>191</th>\n",
       "      <td>1</td>\n",
       "      <td>1</td>\n",
       "      <td>0</td>\n",
       "      <td>0</td>\n",
       "      <td>194</td>\n",
       "      <td>193</td>\n",
       "      <td>2006/02/02/16:11:52#</td>\n",
       "      <td>2006/02/02/16:03:38#</td>\n",
       "      <td>http://profilesinterror.mindswap.org/document/...</td>\n",
       "    </tr>\n",
       "  </tbody>\n",
       "</table>\n",
       "</div>"
      ],
      "text/plain": [
       "     colleague  family  congregate  contact  num_index_1  num_index_2  \\\n",
       "51           1       0           0        1          213           39   \n",
       "159          1       0           0        1           18           14   \n",
       "162          1       0           0        1           40           41   \n",
       "167          1       0           0        1          221          224   \n",
       "191          1       1           0        0          194          193   \n",
       "\n",
       "                   name_1                name_2  \\\n",
       "51               Zawahiri                   OBL   \n",
       "159     Moulad_Bouguelane         Lionel_Dumont   \n",
       "162             AhmadAjaj            EyadIsmoil   \n",
       "167           FathiKhatib          NasserWatimi   \n",
       "191  2006/02/02/16:11:52#  2006/02/02/16:03:38#   \n",
       "\n",
       "                                               rel_url  \n",
       "51   http://profilesinterror.mindswap.org/document/...  \n",
       "159  http://counterterror.mindswap.org/2005/terrori...  \n",
       "162  http://profilesinterror.mindswap.org/document/...  \n",
       "167  http://profilesinterror.mindswap.org/document/...  \n",
       "191  http://profilesinterror.mindswap.org/document/...  "
      ]
     },
     "execution_count": 35,
     "metadata": {},
     "output_type": "execute_result"
    }
   ],
   "source": [
    "relations_compact = pd.DataFrame(newData)\n",
    "relations_compact = relations_compact.rename(columns={0:'colleague', 1:'family', 2:'congregate', 3:'contact',\n",
    "                                          4:'num_index_1', 5:'num_index_2', 6:'name_1', 7:'name_2', 8:'rel_url' })\n",
    "relations_compact.iloc[dupes2].head()"
   ]
  },
  {
   "cell_type": "markdown",
   "metadata": {},
   "source": [
    "## II. Data Analysis"
   ]
  },
  {
   "cell_type": "markdown",
   "metadata": {},
   "source": [
    "### a. Feature Set Reduction"
   ]
  },
  {
   "cell_type": "markdown",
   "metadata": {},
   "source": [
    "To make efficient use of the 612 terrorist features we have available, we reduce this set in the cells below by removing those features that are 0 for all 244 terrorists and keeping one feature in a group of features that pairwise have a correlation coefficent above 0.9"
   ]
  },
  {
   "cell_type": "code",
   "execution_count": 36,
   "metadata": {},
   "outputs": [],
   "source": [
    "binary_features = np.array(terrorist_features.iloc[:,1:613])"
   ]
  },
  {
   "cell_type": "code",
   "execution_count": 37,
   "metadata": {},
   "outputs": [],
   "source": [
    "#get index of features that are 0 for all rows and remove them\n",
    "nonzero_cols = np.where(sum(binary_features)!=0)[0]\n",
    "binary_features = binary_features[:,nonzero_cols]\n",
    "\n",
    "#compute correlation matrix of remaining features\n",
    "feature_correlation = np.corrcoef(binary_features.astype(float), rowvar=False)\n",
    "\n",
    "#create adjacency matrix with 1 in entry i,j IF i!=j && i and j are highly +ly/-ly correlated\n",
    "relFeatures = np.absolute(feature_correlation) > 0.9\n",
    "relFeatures = relFeatures.astype(int)\n",
    "np.fill_diagonal(relFeatures,0)\n",
    "\n",
    "#extract one feature from each group of highly correlated features\n",
    "correlated_components = [list(x) for x in list(nx.connected_components(nx.from_numpy_matrix(relFeatures)))]\n",
    "definingFeatures = [comp[0] for comp in correlated_components]\n",
    "\n",
    "featuresReduced = binary_features[:,definingFeatures]"
   ]
  },
  {
   "cell_type": "markdown",
   "metadata": {},
   "source": [
    "We now have 440 binary features per terrorist instead of 612"
   ]
  },
  {
   "cell_type": "code",
   "execution_count": 38,
   "metadata": {},
   "outputs": [
    {
     "data": {
      "text/plain": [
       "(244, 440)"
      ]
     },
     "execution_count": 38,
     "metadata": {},
     "output_type": "execute_result"
    }
   ],
   "source": [
    "featuresReduced.shape"
   ]
  },
  {
   "cell_type": "markdown",
   "metadata": {},
   "source": [
    "### b. Expand terrorist network"
   ]
  },
  {
   "cell_type": "markdown",
   "metadata": {},
   "source": [
    "As we have stated, it is safe to assume that the Terrorist Relations dataset we are working is incomplete. This is due to the fact that the relations between terrorists we have so far are only the ones that have been observed in reality. Therefore, it is highly likely that some terrorists that appear to be unrelated actually are. As we cannot come up with new individuals, we can instead estimate which pair of terrorists know each other based on the similarity of their binary features.\n",
    "\n",
    "Since we know that the relations we already have definitely exist, we aim to enrich our dataset with potential additional relations. This means we keep our original dual adjacency and only add edges to it if two previously unrelated terrorists appear to share similar features. To determine similarity between terrorist, we only looked at those terrorists that have at least 3 positive binary features (since many of these are set to 0) and added a new edge if the binary features for a pair of terrorists had a correlation coefficient above 0.5 "
   ]
  },
  {
   "cell_type": "code",
   "execution_count": 39,
   "metadata": {},
   "outputs": [],
   "source": [
    "T_WithFeatures = np.where(sum(featuresReduced.T) >= 3)[0]\n",
    "T_correlation = np.corrcoef(featuresReduced[T_WithFeatures].astype(float))"
   ]
  },
  {
   "cell_type": "code",
   "execution_count": 40,
   "metadata": {},
   "outputs": [],
   "source": [
    "correlated_terrorists = np.where(T_correlation>0.5)\n",
    "correlated_terrorists = list(zip(correlated_terrorists[0], correlated_terrorists[1]))\n",
    "correlated_terrorists = [[T_WithFeatures[x[0]], T_WithFeatures[x[1]]] for x in correlated_terrorists if x[0]!=x[1]]"
   ]
  },
  {
   "cell_type": "code",
   "execution_count": 41,
   "metadata": {},
   "outputs": [],
   "source": [
    "new_edges = []\n",
    "adjacency_dual_expanded = adjacency_dual.copy()\n",
    "for k in correlated_terrorists:\n",
    "    if adjacency_dual_expanded[k[0], k[1]] != 1 and adjacency_dual_expanded[k[1], k[0]] != 1:\n",
    "        adjacency_dual_expanded[k[1], k[0]] = 1\n",
    "        adjacency_dual_expanded[k[0], k[1]] = 1\n",
    "        new_edges.append(k)"
   ]
  },
  {
   "cell_type": "code",
   "execution_count": 42,
   "metadata": {},
   "outputs": [
    {
     "name": "stdout",
     "output_type": "stream",
     "text": [
      "Original dual adjacency edges: 840\n",
      "Expanded dual adjacency edges: 945\n",
      "New edges/Terrorist connections: 105\n",
      "Network size increase: 12 %\n"
     ]
    }
   ],
   "source": [
    "print('Original dual adjacency edges:', int(sum(sum(adjacency_dual))/2))\n",
    "print('Expanded dual adjacency edges:', int(sum(sum(adjacency_dual_expanded))/2))\n",
    "print('New edges/Terrorist connections:', len(new_edges))\n",
    "print('Network size increase:', int(len(new_edges)*100/(sum(sum(adjacency_dual))/2)), '%')"
   ]
  },
  {
   "cell_type": "markdown",
   "metadata": {},
   "source": [
    "Now our network has grown from 840 unique relations to 945. This illustrates that the true terrorist network could at least be 12% larger than what we think purely based on similarity of terrorist features!\n",
    "\n",
    "We now create a table in the *relations_expanded* variable that has all the newly created relations in addition to the ones in *relations_compact*"
   ]
  },
  {
   "cell_type": "code",
   "execution_count": 43,
   "metadata": {},
   "outputs": [],
   "source": [
    "terrorists.reset_index(level=0, inplace=True)\n",
    "terroristDictionary = terrorists.drop(columns=['num_index']).to_dict()"
   ]
  },
  {
   "cell_type": "code",
   "execution_count": 44,
   "metadata": {},
   "outputs": [],
   "source": [
    "newEdgesDF = pd.DataFrame([[0, 0, 0, 0, x[0], x[1], \n",
    "                            terroristDictionary['name'][x[0]], \n",
    "                            terroristDictionary['name'][x[1]], \n",
    "                            terroristDictionary['url_index'][x[0]] + '_' + terroristDictionary['url_index'][x[1]]] \n",
    "                           for x in new_edges])\n",
    "\n",
    "newEdgesDF.columns = ['colleague', 'family', 'congregate', 'contact', \n",
    "                      'num_index_1', 'num_index_2', 'name_1', 'name_2', 'rel_url']"
   ]
  },
  {
   "cell_type": "code",
   "execution_count": 45,
   "metadata": {},
   "outputs": [],
   "source": [
    "newEdgesDF.columns = ['colleague', 'family', 'congregate', 'contact', \n",
    "                      'num_index_1', 'num_index_2', 'name_1', 'name_2', 'rel_url']"
   ]
  },
  {
   "cell_type": "code",
   "execution_count": 46,
   "metadata": {
    "scrolled": true
   },
   "outputs": [
    {
     "data": {
      "text/html": [
       "<div>\n",
       "<style scoped>\n",
       "    .dataframe tbody tr th:only-of-type {\n",
       "        vertical-align: middle;\n",
       "    }\n",
       "\n",
       "    .dataframe tbody tr th {\n",
       "        vertical-align: top;\n",
       "    }\n",
       "\n",
       "    .dataframe thead th {\n",
       "        text-align: right;\n",
       "    }\n",
       "</style>\n",
       "<table border=\"1\" class=\"dataframe\">\n",
       "  <thead>\n",
       "    <tr style=\"text-align: right;\">\n",
       "      <th></th>\n",
       "      <th>colleague</th>\n",
       "      <th>family</th>\n",
       "      <th>congregate</th>\n",
       "      <th>contact</th>\n",
       "      <th>num_index_1</th>\n",
       "      <th>num_index_2</th>\n",
       "      <th>name_1</th>\n",
       "      <th>name_2</th>\n",
       "      <th>rel_url</th>\n",
       "    </tr>\n",
       "  </thead>\n",
       "  <tbody>\n",
       "    <tr>\n",
       "      <th>940</th>\n",
       "      <td>0</td>\n",
       "      <td>0</td>\n",
       "      <td>0</td>\n",
       "      <td>0</td>\n",
       "      <td>76</td>\n",
       "      <td>148</td>\n",
       "      <td>Nouredine_el_Fahtni</td>\n",
       "      <td>2005/12/02/04:22:51#</td>\n",
       "      <td>http://profilesinterror.mindswap.org/document/...</td>\n",
       "    </tr>\n",
       "    <tr>\n",
       "      <th>941</th>\n",
       "      <td>0</td>\n",
       "      <td>0</td>\n",
       "      <td>0</td>\n",
       "      <td>0</td>\n",
       "      <td>107</td>\n",
       "      <td>148</td>\n",
       "      <td>2005/09/07/09:36:59#</td>\n",
       "      <td>2005/12/02/04:22:51#</td>\n",
       "      <td>http://profilesinterror.mindswap.org/document/...</td>\n",
       "    </tr>\n",
       "    <tr>\n",
       "      <th>942</th>\n",
       "      <td>0</td>\n",
       "      <td>0</td>\n",
       "      <td>0</td>\n",
       "      <td>0</td>\n",
       "      <td>129</td>\n",
       "      <td>147</td>\n",
       "      <td>2005/10/31/18:01:07#</td>\n",
       "      <td>2005/12/02/04:08:41#</td>\n",
       "      <td>http://profilesinterror.mindswap.org/document/...</td>\n",
       "    </tr>\n",
       "    <tr>\n",
       "      <th>943</th>\n",
       "      <td>0</td>\n",
       "      <td>0</td>\n",
       "      <td>0</td>\n",
       "      <td>0</td>\n",
       "      <td>198</td>\n",
       "      <td>209</td>\n",
       "      <td>2006/02/15/18:45:00#</td>\n",
       "      <td>2006/03/28/16:33:37#</td>\n",
       "      <td>http://profilesinterror.mindswap.org/document/...</td>\n",
       "    </tr>\n",
       "    <tr>\n",
       "      <th>944</th>\n",
       "      <td>0</td>\n",
       "      <td>0</td>\n",
       "      <td>0</td>\n",
       "      <td>0</td>\n",
       "      <td>209</td>\n",
       "      <td>234</td>\n",
       "      <td>2006/03/28/16:33:37#</td>\n",
       "      <td>King_Fahd</td>\n",
       "      <td>http://profilesinterror.mindswap.org/document/...</td>\n",
       "    </tr>\n",
       "  </tbody>\n",
       "</table>\n",
       "</div>"
      ],
      "text/plain": [
       "     colleague  family  congregate  contact  num_index_1  num_index_2  \\\n",
       "940          0       0           0        0           76          148   \n",
       "941          0       0           0        0          107          148   \n",
       "942          0       0           0        0          129          147   \n",
       "943          0       0           0        0          198          209   \n",
       "944          0       0           0        0          209          234   \n",
       "\n",
       "                   name_1                name_2  \\\n",
       "940   Nouredine_el_Fahtni  2005/12/02/04:22:51#   \n",
       "941  2005/09/07/09:36:59#  2005/12/02/04:22:51#   \n",
       "942  2005/10/31/18:01:07#  2005/12/02/04:08:41#   \n",
       "943  2006/02/15/18:45:00#  2006/03/28/16:33:37#   \n",
       "944  2006/03/28/16:33:37#             King_Fahd   \n",
       "\n",
       "                                               rel_url  \n",
       "940  http://profilesinterror.mindswap.org/document/...  \n",
       "941  http://profilesinterror.mindswap.org/document/...  \n",
       "942  http://profilesinterror.mindswap.org/document/...  \n",
       "943  http://profilesinterror.mindswap.org/document/...  \n",
       "944  http://profilesinterror.mindswap.org/document/...  "
      ]
     },
     "execution_count": 46,
     "metadata": {},
     "output_type": "execute_result"
    }
   ],
   "source": [
    "relations_expanded = pd.concat([relations_compact, newEdgesDF])\n",
    "relations_expanded.reset_index(level=0, inplace=True)\n",
    "relations_expanded = relations_expanded.drop(columns=['index'])\n",
    "relations_expanded.tail()"
   ]
  },
  {
   "cell_type": "markdown",
   "metadata": {},
   "source": [
    "Generating new edges in our dual graph is equivalent to creating new nodes in our original Link Graph. We construct the expanded adjacency for our original graph in the cells below"
   ]
  },
  {
   "cell_type": "code",
   "execution_count": 47,
   "metadata": {},
   "outputs": [],
   "source": [
    "#take only num ids of terrorist relations from relations_expanded\n",
    "relations_array_expanded = np.array(relations_expanded)[:,4:6]"
   ]
  },
  {
   "cell_type": "code",
   "execution_count": 48,
   "metadata": {},
   "outputs": [],
   "source": [
    "edges_expanded= set()\n",
    "for i in range(len(relations_array_expanded)):\n",
    "    for j in range(len(relations_array_expanded)):\n",
    "        if i == j:\n",
    "            continue\n",
    "        for e in range(0,2):\n",
    "            if relations_array_expanded[i][e] in list(relations_array_expanded[j]):\n",
    "                edges_expanded.add(frozenset((i,j)))\n",
    "                \n",
    "edges_expanded = [list(x) for x in edges_expanded]"
   ]
  },
  {
   "cell_type": "code",
   "execution_count": 49,
   "metadata": {},
   "outputs": [],
   "source": [
    "adjacency_expanded = np.zeros((len(relations_array_expanded), len(relations_array_expanded)))\n",
    "\n",
    "for p in edges_expanded:\n",
    "    adjacency_expanded[p[0],p[1]] = 1\n",
    "    adjacency_expanded[p[1],p[0]] = 1"
   ]
  },
  {
   "cell_type": "code",
   "execution_count": 50,
   "metadata": {},
   "outputs": [
    {
     "data": {
      "image/png": "[encoded data removed]",
      "text/plain": [
       "<Figure size 432x288 with 1 Axes>"
      ]
     },
     "metadata": {},
     "output_type": "display_data"
    }
   ],
   "source": [
    "plt.title('Expanded Link Graph Adjancecy')\n",
    "plt.spy(adjacency_expanded, markersize=1)\n",
    "plt.show()"
   ]
  },
  {
   "cell_type": "markdown",
   "metadata": {},
   "source": [
    "### c. Label interpolation for new relations"
   ]
  },
  {
   "cell_type": "markdown",
   "metadata": {},
   "source": [
    "Now that we have augmented our dual graph based on terrorist features and subsequently expanded our original Link Graph, we now have a set of new unlabeled relations. These unlabeled relations roughly represent 10% of our new expanded graph. This is gives us the opportunity to perform signal interpolation for each of our labels, represented as separate signals. We took a one-vs-all approach for each and used the p-2 norm as it returned better results during the Milestones. Additionally, we leveraged the 'black-box' solver given in Milestone 4. "
   ]
  },
  {
   "cell_type": "code",
   "execution_count": 51,
   "metadata": {},
   "outputs": [],
   "source": [
    "def graph_pnorm_interpolation(gradient, P, x0=None, p=1., **kwargs):\n",
    "    \n",
    "    grad = lambda z: gradient.dot(z)\n",
    "    div = lambda z: gradient.transpose().dot(z)\n",
    "\n",
    "    # Indicator function of the set satisfying :math:`y = A(z)`\n",
    "    f = functions.func()\n",
    "    f._eval = lambda z: 0\n",
    "    f._prox = lambda z, gamma: P(z)\n",
    "\n",
    "    # :math:`\\ell_1` norm of the dual variable :math:`d = \\nabla_G z`\n",
    "    g = functions.func()\n",
    "    g._eval = lambda z: np.sum(np.abs(grad(z)))\n",
    "    g._prox = lambda d, gamma: functions._soft_threshold(d, gamma)\n",
    "\n",
    "    # :math:`\\ell_2` norm of the gradient (for the smooth case)\n",
    "    h = functions.norm_l2(A=grad, At=div)\n",
    "\n",
    "    stepsize = (0.9 / (1. + scipy.sparse.linalg.norm(gradient, ord='fro'))) ** p\n",
    "\n",
    "    solver = solvers.mlfbf(L=grad, Lt=div, step=stepsize)\n",
    "\n",
    "    if p == 1.:\n",
    "        problem = solvers.solve([f, g, functions.dummy()], x0=x0, solver=solver, **kwargs)\n",
    "        return problem['sol']\n",
    "    if p == 2.:\n",
    "        problem = solvers.solve([f, functions.dummy(), h], x0=x0, solver=solver, **kwargs)\n",
    "        return problem['sol']\n",
    "    else:\n",
    "        return x0"
   ]
  },
  {
   "cell_type": "code",
   "execution_count": 52,
   "metadata": {},
   "outputs": [],
   "source": [
    "mask = np.zeros(relations_expanded.shape[0])\n",
    "np.put(mask, list(range(840)), 1)"
   ]
  },
  {
   "cell_type": "code",
   "execution_count": 53,
   "metadata": {},
   "outputs": [],
   "source": [
    "def PS(sig):\n",
    "    def P(a):\n",
    "        b = np.zeros(relations_expanded.shape[0])\n",
    "        b = b + np.multiply(mask, sig)\n",
    "        b = b + np.multiply(abs(abs(mask)-1), a)\n",
    "        return b\n",
    "    return P"
   ]
  },
  {
   "cell_type": "code",
   "execution_count": 54,
   "metadata": {},
   "outputs": [],
   "source": [
    "gradient = nx.incidence_matrix(nx.from_numpy_matrix(adjacency_expanded), oriented=True).T"
   ]
  },
  {
   "cell_type": "code",
   "execution_count": 55,
   "metadata": {},
   "outputs": [
    {
     "name": "stdout",
     "output_type": "stream",
     "text": [
      "Solution found after 1 iterations:\n",
      "    objective function f(sol) = 4.115310e+03\n",
      "    stopping criterion: RTOL\n",
      "Solution found after 200 iterations:\n",
      "    objective function f(sol) = 1.042370e+03\n",
      "    stopping criterion: MAXIT\n",
      "Solution found after 1 iterations:\n",
      "    objective function f(sol) = 2.401030e+03\n",
      "    stopping criterion: RTOL\n",
      "Solution found after 1 iterations:\n",
      "    objective function f(sol) = 4.960373e+03\n",
      "    stopping criterion: RTOL\n"
     ]
    }
   ],
   "source": [
    "label_signals = []\n",
    "for i in range(4):\n",
    "    signal = np.array(relations_expanded.iloc[0:840:,i], dtype=float)\n",
    "    signal[signal==0] = -1\n",
    "    signal = np.append(signal, np.zeros(105))\n",
    "\n",
    "    sol_2norm_min = graph_pnorm_interpolation(sparse.csr_matrix(gradient), PS(signal), signal, p=2.)\n",
    "\n",
    "    threshold = 0\n",
    "\n",
    "    sol_2norm_bin = np.array(sol_2norm_min)\n",
    "    sol_2norm_bin[sol_2norm_bin>threshold] = 1\n",
    "    sol_2norm_bin[sol_2norm_bin<threshold] = 0\n",
    "    \n",
    "    label_signals.append(sol_2norm_bin)"
   ]
  },
  {
   "cell_type": "code",
   "execution_count": 56,
   "metadata": {},
   "outputs": [],
   "source": [
    "label_signals = np.array(label_signals)"
   ]
  },
  {
   "cell_type": "code",
   "execution_count": 57,
   "metadata": {},
   "outputs": [],
   "source": [
    "relations_expanded_rich = relations_expanded.copy()\n",
    "relations_expanded_rich['colleague'] = label_signals[0].astype(int)\n",
    "relations_expanded_rich['family'] = label_signals[1].astype(int)\n",
    "relations_expanded_rich['congregate'] = label_signals[2].astype(int)\n",
    "relations_expanded_rich['contact'] = label_signals[3].astype(int)"
   ]
  },
  {
   "cell_type": "code",
   "execution_count": 58,
   "metadata": {
    "scrolled": true
   },
   "outputs": [
    {
     "name": "stdout",
     "output_type": "stream",
     "text": [
      "colleague : \t - original: 461 \t - expanded: 513 \t - increase: 11 %\n",
      "\n",
      "family : \t - original: 136 \t - expanded: 138 \t - increase: 1 %\n",
      "\n",
      "congregate : \t - original: 106 \t - expanded: 144 \t - increase: 35 %\n",
      "\n",
      "contact : \t - original: 148 \t - expanded: 157 \t - increase: 6 %\n",
      "\n"
     ]
    }
   ],
   "source": [
    "for i in range(len(relations.columns[:4])):\n",
    "    print(relations.columns[i], \n",
    "          ': \\t - original:', \n",
    "          sum(relations.iloc[:,i]), \n",
    "          '\\t - expanded:', \n",
    "          sum(relations_expanded_rich.iloc[:,i]), \n",
    "          '\\t - increase:',\n",
    "          int((sum(relations_expanded_rich.iloc[:,i]) - sum(relations.iloc[:,i]))*100/sum(relations.iloc[:,i])), \n",
    "          '%\\n')"
   ]
  },
  {
   "cell_type": "markdown",
   "metadata": {},
   "source": [
    "We can see above that the expansion was proprotionally most remarkable in the terrorist network of congregates"
   ]
  },
  {
   "cell_type": "markdown",
   "metadata": {},
   "source": [
    "### d. Clustering"
   ]
  },
  {
   "cell_type": "markdown",
   "metadata": {},
   "source": [
    "Now that we have expanded the terrorist network and learned the labels of the new relations, we investigate into how this impacts the clustering performance. We take the clustering we performed in Milestone 3 below"
   ]
  },
  {
   "cell_type": "code",
   "execution_count": 59,
   "metadata": {},
   "outputs": [],
   "source": [
    "#Extract Biggest Connected Component\n",
    "clustered_adjacencies = []\n",
    "accuracies = []\n",
    "for a in [[adjacency, relations_compact], [adjacency_expanded, relations_expanded_rich]]:\n",
    "    GCC = max(nx.connected_component_subgraphs(nx.from_numpy_matrix(a[0])), key=len)\n",
    "    GCC_nodes = np.array(GCC.nodes())\n",
    "    GCC = nx.to_numpy_matrix(GCC)\n",
    "    GCC = np.squeeze(np.asarray(GCC))\n",
    "    \n",
    "    GCC_laplacian =  scipy.sparse.csgraph.laplacian(GCC, normed=False)\n",
    "    GCC_sparseLapla = sparse.csr_matrix(GCC_laplacian)\n",
    "    GCC_csrLapla = GCC_sparseLapla.tocsr()\n",
    "    \n",
    "    GCC_egval, GCC_egvec = scipy.sparse.linalg.eigsh(GCC_csrLapla, 3, which='SM')\n",
    "    GCC_egvec = np.delete(GCC_egvec, 0, 1) #remove eigenvector associated to eigenvalue 0\n",
    "    \n",
    "    Kmeans = KMeans(n_clusters=4).fit(GCC_egvec)\n",
    "    \n",
    "    c1 = np.squeeze(np.take(GCC_egvec, np.where(Kmeans.labels_==0), 0))\n",
    "    c2 = np.squeeze(np.take(GCC_egvec, np.where(Kmeans.labels_==1), 0))\n",
    "    c3 = np.squeeze(np.take(GCC_egvec, np.where(Kmeans.labels_==2), 0))\n",
    "    c4 = np.squeeze(np.take(GCC_egvec, np.where(Kmeans.labels_==3), 0))\n",
    "    \n",
    "    GCC_adj = a[0][np.ix_(GCC_nodes, GCC_nodes)]\n",
    "    \n",
    "    GCC_clust_adj = np.vstack((GCC_adj[np.where(Kmeans.labels_==0)], \n",
    "                               GCC_adj[np.where(Kmeans.labels_==1)], \n",
    "                               GCC_adj[np.where(Kmeans.labels_==2)], \n",
    "                               GCC_adj[np.where(Kmeans.labels_==3)]))\n",
    "    \n",
    "    GCC_clust_adj = np.hstack((np.squeeze(GCC_clust_adj[:,np.where(Kmeans.labels_==0)]), \n",
    "                               np.squeeze(GCC_clust_adj[:,np.where(Kmeans.labels_==1)]), \n",
    "                               np.squeeze(GCC_clust_adj[:,np.where(Kmeans.labels_==2)]), \n",
    "                               np.squeeze(GCC_clust_adj[:,np.where(Kmeans.labels_==3)])))\n",
    "    \n",
    "    clustered_adjacencies.append(GCC_clust_adj)\n",
    "    \n",
    "    relations_array = np.array(a[1])\n",
    "    relations_array = np.take(relations_array, GCC_nodes, axis=0)\n",
    "    \n",
    "    clusters = []\n",
    "    for i in range(4):\n",
    "        clusters.append(np.where(relations_array[:,i] == 1)[0])\n",
    "\n",
    "    accuracy = []\n",
    "    for ind in clusters:\n",
    "        cont = []\n",
    "        for j in range(4):\n",
    "            cont.append(round(list(np.isin(ind, np.where(Kmeans.labels_==j))).count(True)/len(ind), 2))\n",
    "        accuracy.append(cont)\n",
    "        \n",
    "    accuracies.append(accuracy)"
   ]
  },
  {
   "cell_type": "markdown",
   "metadata": {},
   "source": [
    "Expanded network clustering"
   ]
  },
  {
   "cell_type": "code",
   "execution_count": 60,
   "metadata": {},
   "outputs": [
    {
     "data": {
      "image/png": "[encoded data removed]",
      "text/plain": [
       "<Figure size 720x360 with 2 Axes>"
      ]
     },
     "metadata": {},
     "output_type": "display_data"
    }
   ],
   "source": [
    "fig = plt.figure(figsize=(10, 5))\n",
    "fig.add_subplot(1, 2, 1)\n",
    "plt.title('original GCC')\n",
    "plt.spy(clustered_adjacencies[0], markersize=1)\n",
    "fig.add_subplot(1, 2, 2)\n",
    "plt.title('expanded GCC')\n",
    "plt.spy(clustered_adjacencies[1], markersize=1)\n",
    "plt.show()"
   ]
  },
  {
   "cell_type": "code",
   "execution_count": 61,
   "metadata": {},
   "outputs": [],
   "source": [
    "accuracy_original = pd.DataFrame(accuracies[0], \n",
    "                                 ['colleague', 'family','congregate','contact'], \n",
    "                                 ['cluster1','cluster2','cluster3','cluster4'])\n",
    "\n",
    "accuracy_expanded = pd.DataFrame(accuracies[1], \n",
    "                                 ['colleague', 'family','congregate','contact'], \n",
    "                                 ['cluster1','cluster2','cluster3','cluster4'])"
   ]
  },
  {
   "cell_type": "code",
   "execution_count": 62,
   "metadata": {
    "scrolled": false
   },
   "outputs": [
    {
     "name": "stdout",
     "output_type": "stream",
     "text": [
      "K-means clustering in original network\n"
     ]
    },
    {
     "data": {
      "text/html": [
       "<div>\n",
       "<style scoped>\n",
       "    .dataframe tbody tr th:only-of-type {\n",
       "        vertical-align: middle;\n",
       "    }\n",
       "\n",
       "    .dataframe tbody tr th {\n",
       "        vertical-align: top;\n",
       "    }\n",
       "\n",
       "    .dataframe thead th {\n",
       "        text-align: right;\n",
       "    }\n",
       "</style>\n",
       "<table border=\"1\" class=\"dataframe\">\n",
       "  <thead>\n",
       "    <tr style=\"text-align: right;\">\n",
       "      <th></th>\n",
       "      <th>cluster1</th>\n",
       "      <th>cluster2</th>\n",
       "      <th>cluster3</th>\n",
       "      <th>cluster4</th>\n",
       "    </tr>\n",
       "  </thead>\n",
       "  <tbody>\n",
       "    <tr>\n",
       "      <th>colleague</th>\n",
       "      <td>0.42</td>\n",
       "      <td>0.16</td>\n",
       "      <td>0.33</td>\n",
       "      <td>0.09</td>\n",
       "    </tr>\n",
       "    <tr>\n",
       "      <th>family</th>\n",
       "      <td>0.35</td>\n",
       "      <td>0.06</td>\n",
       "      <td>0.00</td>\n",
       "      <td>0.59</td>\n",
       "    </tr>\n",
       "    <tr>\n",
       "      <th>congregate</th>\n",
       "      <td>0.00</td>\n",
       "      <td>0.94</td>\n",
       "      <td>0.00</td>\n",
       "      <td>0.06</td>\n",
       "    </tr>\n",
       "    <tr>\n",
       "      <th>contact</th>\n",
       "      <td>0.30</td>\n",
       "      <td>0.25</td>\n",
       "      <td>0.21</td>\n",
       "      <td>0.24</td>\n",
       "    </tr>\n",
       "  </tbody>\n",
       "</table>\n",
       "</div>"
      ],
      "text/plain": [
       "            cluster1  cluster2  cluster3  cluster4\n",
       "colleague       0.42      0.16      0.33      0.09\n",
       "family          0.35      0.06      0.00      0.59\n",
       "congregate      0.00      0.94      0.00      0.06\n",
       "contact         0.30      0.25      0.21      0.24"
      ]
     },
     "metadata": {},
     "output_type": "display_data"
    },
    {
     "name": "stdout",
     "output_type": "stream",
     "text": [
      "\n",
      "K-means clustering in expanded network\n"
     ]
    },
    {
     "data": {
      "text/html": [
       "<div>\n",
       "<style scoped>\n",
       "    .dataframe tbody tr th:only-of-type {\n",
       "        vertical-align: middle;\n",
       "    }\n",
       "\n",
       "    .dataframe tbody tr th {\n",
       "        vertical-align: top;\n",
       "    }\n",
       "\n",
       "    .dataframe thead th {\n",
       "        text-align: right;\n",
       "    }\n",
       "</style>\n",
       "<table border=\"1\" class=\"dataframe\">\n",
       "  <thead>\n",
       "    <tr style=\"text-align: right;\">\n",
       "      <th></th>\n",
       "      <th>cluster1</th>\n",
       "      <th>cluster2</th>\n",
       "      <th>cluster3</th>\n",
       "      <th>cluster4</th>\n",
       "    </tr>\n",
       "  </thead>\n",
       "  <tbody>\n",
       "    <tr>\n",
       "      <th>colleague</th>\n",
       "      <td>0.00</td>\n",
       "      <td>0.33</td>\n",
       "      <td>0.37</td>\n",
       "      <td>0.30</td>\n",
       "    </tr>\n",
       "    <tr>\n",
       "      <th>family</th>\n",
       "      <td>0.87</td>\n",
       "      <td>0.09</td>\n",
       "      <td>0.04</td>\n",
       "      <td>0.00</td>\n",
       "    </tr>\n",
       "    <tr>\n",
       "      <th>congregate</th>\n",
       "      <td>0.00</td>\n",
       "      <td>1.00</td>\n",
       "      <td>0.00</td>\n",
       "      <td>0.00</td>\n",
       "    </tr>\n",
       "    <tr>\n",
       "      <th>contact</th>\n",
       "      <td>0.00</td>\n",
       "      <td>0.57</td>\n",
       "      <td>0.28</td>\n",
       "      <td>0.16</td>\n",
       "    </tr>\n",
       "  </tbody>\n",
       "</table>\n",
       "</div>"
      ],
      "text/plain": [
       "            cluster1  cluster2  cluster3  cluster4\n",
       "colleague       0.00      0.33      0.37      0.30\n",
       "family          0.87      0.09      0.04      0.00\n",
       "congregate      0.00      1.00      0.00      0.00\n",
       "contact         0.00      0.57      0.28      0.16"
      ]
     },
     "metadata": {},
     "output_type": "display_data"
    }
   ],
   "source": [
    "print('K-means clustering in original network')\n",
    "display(accuracy_original)\n",
    "print('\\nK-means clustering in expanded network')\n",
    "display(accuracy_expanded)"
   ]
  },
  {
   "cell_type": "markdown",
   "metadata": {},
   "source": [
    "Looking at the clustering accuracy in our expanded network, we can observe that it is comparable to the accuracy we obtained in Milestone 3. However, one significant improvement is that k-means clustering nearly perfectly predicted the family cluster. This indicates that the added edges in our expanded network have altered the connectivity in a way that has grouped the family relations and separated them from the rest of the network."
   ]
  },
  {
   "cell_type": "markdown",
   "metadata": {},
   "source": [
    "### e. Network analysis"
   ]
  },
  {
   "cell_type": "markdown",
   "metadata": {},
   "source": [
    "We now analyse how the newly added relations have impacted the properties of the terrorist network, potentially revealing its true strength"
   ]
  },
  {
   "cell_type": "code",
   "execution_count": 63,
   "metadata": {},
   "outputs": [],
   "source": [
    "graph_dual = nx.from_numpy_matrix(adjacency_dual)\n",
    "graph_dual_exp = nx.from_numpy_matrix(adjacency_dual_expanded)"
   ]
  },
  {
   "cell_type": "code",
   "execution_count": 64,
   "metadata": {},
   "outputs": [
    {
     "name": "stdout",
     "output_type": "stream",
     "text": [
      "Original data:\n",
      "Number of connected components: 13\n",
      "# of elements of connected components [183, 3, 2, 9, 3, 3, 2, 2, 3, 3, 5, 18, 8]\n",
      "\n",
      "Expanded data:\n",
      "Number of connected components: 9\n",
      "# of elements of connected components [209, 9, 3, 3, 2, 2, 3, 5, 8]\n"
     ]
    }
   ],
   "source": [
    "print('Original data:')\n",
    "print(f'Number of connected components: {nx.number_connected_components(graph_dual)}')\n",
    "componentSizes = []\n",
    "for component in nx.connected_components(graph_dual):\n",
    "    componentSizes.append(len(component))\n",
    "print(f'# of elements of connected components {componentSizes}')\n",
    "\n",
    "print('\\nExpanded data:')\n",
    "print(f'Number of connected components: {nx.number_connected_components(graph_dual_exp)}')\n",
    "componentSizes_exp = []\n",
    "for component in nx.connected_components(graph_dual_exp):\n",
    "    componentSizes_exp.append(len(component))\n",
    "print(f'# of elements of connected components {componentSizes_exp}')"
   ]
  },
  {
   "cell_type": "code",
   "execution_count": 65,
   "metadata": {},
   "outputs": [],
   "source": [
    "dualGCC = max(nx.connected_component_subgraphs(graph_dual), key=len)\n",
    "dualGCCexp = max(nx.connected_component_subgraphs(graph_dual_exp), key=len)"
   ]
  },
  {
   "cell_type": "code",
   "execution_count": 66,
   "metadata": {},
   "outputs": [
    {
     "name": "stdout",
     "output_type": "stream",
     "text": [
      "Original data:\n",
      "Diameter of giant connected component: 13\n",
      "Average shortest path of giant connected component: 5.696811385335976\n",
      "\n",
      "Expanded data:\n",
      "Diameter of giant connected component: 10\n",
      "Average shortest path of giant connected component: 4.7557508281192495\n"
     ]
    }
   ],
   "source": [
    "print('Original data:')\n",
    "print(f'Diameter of giant connected component: {nx.diameter(dualGCC)}')\n",
    "print(f'Average shortest path of giant connected component: {nx.average_shortest_path_length(dualGCC)}')\n",
    "\n",
    "print('\\nExpanded data:')\n",
    "print(f'Diameter of giant connected component: {nx.diameter(dualGCCexp)}')\n",
    "print(f'Average shortest path of giant connected component: {nx.average_shortest_path_length(dualGCCexp)}')      "
   ]
  },
  {
   "cell_type": "markdown",
   "metadata": {},
   "source": [
    "We can observe that in general the connectivity of the graph has improved (as expected). The number of connected components has reduced, as the largest connected components in our original graph have merged. Additionally, although the largest component has increased in size, its diameter and average shortest path have gotten smaller. There is an average of 5 terrorists between each pair of terrorists now as opposed to 6."
   ]
  },
  {
   "cell_type": "markdown",
   "metadata": {},
   "source": [
    "### d. Identification of most wanted terrorist"
   ]
  },
  {
   "cell_type": "markdown",
   "metadata": {},
   "source": [
    "Finally, we wish to identify the top targets for anti-terrorist campaigns. More precisely, we aim pinpoint the terrorist that if eliminated would cause most damage to the network and be disruptive to terrorist operations. We first look at the most obvious measure: terrorist degrees in the dual graphs for both the original and expanded network."
   ]
  },
  {
   "cell_type": "code",
   "execution_count": 67,
   "metadata": {},
   "outputs": [],
   "source": [
    "#select top 10 terrorist degrees in both graphs\n",
    "X = 10\n",
    "targets = []\n",
    "for g in [graph_dual, graph_dual_exp]:\n",
    "    mostWanted = []\n",
    "    \n",
    "    degreesDict = dict(nx.degree(g))\n",
    "    topTerroristIDs = sorted(degreesDict, key=degreesDict.get, reverse=True)[:X]\n",
    "    \n",
    "    maxDegrees = []\n",
    "    for i in topTerroristIDs: \n",
    "        maxDegrees.append(degreesDict[i])\n",
    "    \n",
    "    mostWanted.append(topTerroristIDs)\n",
    "    mostWanted.append(list(terrorists.iloc[topTerroristIDs, 2]))\n",
    "    mostWanted.append(maxDegrees)\n",
    "    targets.append(mostWanted)"
   ]
  },
  {
   "cell_type": "code",
   "execution_count": 68,
   "metadata": {
    "scrolled": true
   },
   "outputs": [],
   "source": [
    "mostConnectedTerrorists_orig = pd.DataFrame(np.array(targets[0]).T)\n",
    "mostConnectedTerrorists_exp = pd.DataFrame(np.array(targets[1]).T)\n",
    "mostConnectedTerrorists_orig = mostConnectedTerrorists_orig.rename(columns={0:'ID', 1:'Name',2:'Degree'})\n",
    "mostConnectedTerrorists_exp = mostConnectedTerrorists_exp.rename(columns={0:'ID', 1:'Name',2:'Degree'})"
   ]
  },
  {
   "cell_type": "markdown",
   "metadata": {},
   "source": [
    "Looking at the top 10 degrees in both graphs, we can see that some names appear in both lists. However, the striking observation is that the highest degree in the expanded dual graph (Habib Zacarias Moussaoui) is a terrorist who was previously not part of the most connected terrorists. This is the case for a number of terrorists, which highlights the importance of looking at alternative terrorist networks in order to identify our target."
   ]
  },
  {
   "cell_type": "code",
   "execution_count": 69,
   "metadata": {
    "scrolled": false
   },
   "outputs": [
    {
     "name": "stdout",
     "output_type": "stream",
     "text": [
      "Top degrees in original network\n"
     ]
    },
    {
     "data": {
      "text/html": [
       "<div>\n",
       "<style scoped>\n",
       "    .dataframe tbody tr th:only-of-type {\n",
       "        vertical-align: middle;\n",
       "    }\n",
       "\n",
       "    .dataframe tbody tr th {\n",
       "        vertical-align: top;\n",
       "    }\n",
       "\n",
       "    .dataframe thead th {\n",
       "        text-align: right;\n",
       "    }\n",
       "</style>\n",
       "<table border=\"1\" class=\"dataframe\">\n",
       "  <thead>\n",
       "    <tr style=\"text-align: right;\">\n",
       "      <th></th>\n",
       "      <th>ID</th>\n",
       "      <th>Name</th>\n",
       "      <th>Degree</th>\n",
       "    </tr>\n",
       "  </thead>\n",
       "  <tbody>\n",
       "    <tr>\n",
       "      <th>0</th>\n",
       "      <td>70</td>\n",
       "      <td>Abu_Khaled</td>\n",
       "      <td>22</td>\n",
       "    </tr>\n",
       "    <tr>\n",
       "      <th>1</th>\n",
       "      <td>225</td>\n",
       "      <td>KhaledMashal</td>\n",
       "      <td>20</td>\n",
       "    </tr>\n",
       "    <tr>\n",
       "      <th>2</th>\n",
       "      <td>220</td>\n",
       "      <td>AbbasSayyed</td>\n",
       "      <td>18</td>\n",
       "    </tr>\n",
       "    <tr>\n",
       "      <th>3</th>\n",
       "      <td>20</td>\n",
       "      <td>Mustafa_Kamel</td>\n",
       "      <td>17</td>\n",
       "    </tr>\n",
       "    <tr>\n",
       "      <th>4</th>\n",
       "      <td>4</td>\n",
       "      <td>Amar_Makhulif</td>\n",
       "      <td>16</td>\n",
       "    </tr>\n",
       "    <tr>\n",
       "      <th>5</th>\n",
       "      <td>67</td>\n",
       "      <td>Mohammad_Sidique_Khan</td>\n",
       "      <td>16</td>\n",
       "    </tr>\n",
       "    <tr>\n",
       "      <th>6</th>\n",
       "      <td>69</td>\n",
       "      <td>Mohammad_Bouyeri</td>\n",
       "      <td>16</td>\n",
       "    </tr>\n",
       "    <tr>\n",
       "      <th>7</th>\n",
       "      <td>71</td>\n",
       "      <td>Jason_Walters</td>\n",
       "      <td>16</td>\n",
       "    </tr>\n",
       "    <tr>\n",
       "      <th>8</th>\n",
       "      <td>72</td>\n",
       "      <td>Samir_Azzouz</td>\n",
       "      <td>16</td>\n",
       "    </tr>\n",
       "    <tr>\n",
       "      <th>9</th>\n",
       "      <td>73</td>\n",
       "      <td>Abdelhamid_Bouchema</td>\n",
       "      <td>16</td>\n",
       "    </tr>\n",
       "  </tbody>\n",
       "</table>\n",
       "</div>"
      ],
      "text/plain": [
       "    ID                   Name Degree\n",
       "0   70             Abu_Khaled     22\n",
       "1  225           KhaledMashal     20\n",
       "2  220            AbbasSayyed     18\n",
       "3   20          Mustafa_Kamel     17\n",
       "4    4          Amar_Makhulif     16\n",
       "5   67  Mohammad_Sidique_Khan     16\n",
       "6   69       Mohammad_Bouyeri     16\n",
       "7   71          Jason_Walters     16\n",
       "8   72           Samir_Azzouz     16\n",
       "9   73    Abdelhamid_Bouchema     16"
      ]
     },
     "metadata": {},
     "output_type": "display_data"
    },
    {
     "name": "stdout",
     "output_type": "stream",
     "text": [
      "\n",
      "Top degrees in expanded network\n"
     ]
    },
    {
     "data": {
      "text/html": [
       "<div>\n",
       "<style scoped>\n",
       "    .dataframe tbody tr th:only-of-type {\n",
       "        vertical-align: middle;\n",
       "    }\n",
       "\n",
       "    .dataframe tbody tr th {\n",
       "        vertical-align: top;\n",
       "    }\n",
       "\n",
       "    .dataframe thead th {\n",
       "        text-align: right;\n",
       "    }\n",
       "</style>\n",
       "<table border=\"1\" class=\"dataframe\">\n",
       "  <thead>\n",
       "    <tr style=\"text-align: right;\">\n",
       "      <th></th>\n",
       "      <th>ID</th>\n",
       "      <th>Name</th>\n",
       "      <th>Degree</th>\n",
       "    </tr>\n",
       "  </thead>\n",
       "  <tbody>\n",
       "    <tr>\n",
       "      <th>0</th>\n",
       "      <td>9</td>\n",
       "      <td>Habib_Zacarias_Moussaoui</td>\n",
       "      <td>24</td>\n",
       "    </tr>\n",
       "    <tr>\n",
       "      <th>1</th>\n",
       "      <td>4</td>\n",
       "      <td>Amar_Makhulif</td>\n",
       "      <td>23</td>\n",
       "    </tr>\n",
       "    <tr>\n",
       "      <th>2</th>\n",
       "      <td>70</td>\n",
       "      <td>Abu_Khaled</td>\n",
       "      <td>22</td>\n",
       "    </tr>\n",
       "    <tr>\n",
       "      <th>3</th>\n",
       "      <td>8</td>\n",
       "      <td>Fateh_Kamel</td>\n",
       "      <td>21</td>\n",
       "    </tr>\n",
       "    <tr>\n",
       "      <th>4</th>\n",
       "      <td>6</td>\n",
       "      <td>Djamel_Beghal</td>\n",
       "      <td>20</td>\n",
       "    </tr>\n",
       "    <tr>\n",
       "      <th>5</th>\n",
       "      <td>225</td>\n",
       "      <td>KhaledMashal</td>\n",
       "      <td>20</td>\n",
       "    </tr>\n",
       "    <tr>\n",
       "      <th>6</th>\n",
       "      <td>36</td>\n",
       "      <td>Yacine_Akhnouche</td>\n",
       "      <td>19</td>\n",
       "    </tr>\n",
       "    <tr>\n",
       "      <th>7</th>\n",
       "      <td>76</td>\n",
       "      <td>Nouredine_el_Fahtni</td>\n",
       "      <td>18</td>\n",
       "    </tr>\n",
       "    <tr>\n",
       "      <th>8</th>\n",
       "      <td>220</td>\n",
       "      <td>AbbasSayyed</td>\n",
       "      <td>18</td>\n",
       "    </tr>\n",
       "    <tr>\n",
       "      <th>9</th>\n",
       "      <td>20</td>\n",
       "      <td>Mustafa_Kamel</td>\n",
       "      <td>17</td>\n",
       "    </tr>\n",
       "  </tbody>\n",
       "</table>\n",
       "</div>"
      ],
      "text/plain": [
       "    ID                      Name Degree\n",
       "0    9  Habib_Zacarias_Moussaoui     24\n",
       "1    4             Amar_Makhulif     23\n",
       "2   70                Abu_Khaled     22\n",
       "3    8               Fateh_Kamel     21\n",
       "4    6             Djamel_Beghal     20\n",
       "5  225              KhaledMashal     20\n",
       "6   36          Yacine_Akhnouche     19\n",
       "7   76       Nouredine_el_Fahtni     18\n",
       "8  220               AbbasSayyed     18\n",
       "9   20             Mustafa_Kamel     17"
      ]
     },
     "metadata": {},
     "output_type": "display_data"
    }
   ],
   "source": [
    "print('Top degrees in original network')\n",
    "display(mostConnectedTerrorists_orig)\n",
    "print('\\nTop degrees in expanded network')\n",
    "display(mostConnectedTerrorists_exp)"
   ]
  },
  {
   "cell_type": "markdown",
   "metadata": {},
   "source": [
    "Perhaps a more informative metric to compute is the betweeness centrality for each vertex. It provides a way of detecting the amount of influence a node has over the flow of information in a network. Below we compute the betweenness centrality of each node, which for a node v is the sum of the fraction of all-pairs shortest paths that pass through v. We select the top 10 for both the original and expanded dual."
   ]
  },
  {
   "cell_type": "code",
   "execution_count": 70,
   "metadata": {},
   "outputs": [],
   "source": [
    "centralTerrorists = []\n",
    "centralityDegrees = []\n",
    "for g in [graph_dual, graph_dual_exp]:\n",
    "    centralDict = nx.betweenness_centrality(g)\n",
    "    centralNodes = sorted(centralDict, key=centralDict.get, reverse=True)[:10]\n",
    "    centralityNodeDegrees = []\n",
    "    for i in centralNodes: \n",
    "        centralityNodeDegrees.append(centralDict[i])\n",
    "    centralTerrorists.append(centralNodes)\n",
    "    centralityDegrees.append(centralityNodeDegrees)"
   ]
  },
  {
   "cell_type": "code",
   "execution_count": 71,
   "metadata": {},
   "outputs": [],
   "source": [
    "centralTerrorists_orig = pd.DataFrame(np.stack((centralTerrorists[0],\n",
    "                                                np.array(terrorists.iloc[centralTerrorists[0],2]),\n",
    "                                                centralityDegrees[0]),axis=1))\n",
    "\n",
    "centralTerrorists_exp = pd.DataFrame(np.stack((centralTerrorists[1],\n",
    "                                               np.array(terrorists.iloc[centralTerrorists[1],2]),\n",
    "                                               centralityDegrees[1]),axis=1))\n",
    "\n",
    "centralTerrorists_orig = centralTerrorists_orig.rename(columns={0:'ID', 1:'Name', 2:'Close centrality'})\n",
    "centralTerrorists_exp = centralTerrorists_exp.rename(columns={0:'ID', 1:'Name', 2:'Close centrality'})"
   ]
  },
  {
   "cell_type": "code",
   "execution_count": 72,
   "metadata": {
    "scrolled": false
   },
   "outputs": [
    {
     "name": "stdout",
     "output_type": "stream",
     "text": [
      "Top 10 betweenness centrality terrorists:\n"
     ]
    },
    {
     "data": {
      "text/html": [
       "<div>\n",
       "<style scoped>\n",
       "    .dataframe tbody tr th:only-of-type {\n",
       "        vertical-align: middle;\n",
       "    }\n",
       "\n",
       "    .dataframe tbody tr th {\n",
       "        vertical-align: top;\n",
       "    }\n",
       "\n",
       "    .dataframe thead th {\n",
       "        text-align: right;\n",
       "    }\n",
       "</style>\n",
       "<table border=\"1\" class=\"dataframe\">\n",
       "  <thead>\n",
       "    <tr style=\"text-align: right;\">\n",
       "      <th></th>\n",
       "      <th>ID</th>\n",
       "      <th>Name</th>\n",
       "      <th>Close centrality</th>\n",
       "    </tr>\n",
       "  </thead>\n",
       "  <tbody>\n",
       "    <tr>\n",
       "      <th>0</th>\n",
       "      <td>39</td>\n",
       "      <td>OBL</td>\n",
       "      <td>0.254749</td>\n",
       "    </tr>\n",
       "    <tr>\n",
       "      <th>1</th>\n",
       "      <td>4</td>\n",
       "      <td>Amar_Makhulif</td>\n",
       "      <td>0.212159</td>\n",
       "    </tr>\n",
       "    <tr>\n",
       "      <th>2</th>\n",
       "      <td>110</td>\n",
       "      <td>2005/09/08/04:39:17#</td>\n",
       "      <td>0.169383</td>\n",
       "    </tr>\n",
       "    <tr>\n",
       "      <th>3</th>\n",
       "      <td>134</td>\n",
       "      <td>2005/11/04/20:40:21#</td>\n",
       "      <td>0.121702</td>\n",
       "    </tr>\n",
       "    <tr>\n",
       "      <th>4</th>\n",
       "      <td>104</td>\n",
       "      <td>2005/08/23/02:24:06#</td>\n",
       "      <td>0.115213</td>\n",
       "    </tr>\n",
       "    <tr>\n",
       "      <th>5</th>\n",
       "      <td>232</td>\n",
       "      <td>Zarqawi</td>\n",
       "      <td>0.109175</td>\n",
       "    </tr>\n",
       "    <tr>\n",
       "      <th>6</th>\n",
       "      <td>23</td>\n",
       "      <td>Omar_Mahmoud_Othman</td>\n",
       "      <td>0.10061</td>\n",
       "    </tr>\n",
       "    <tr>\n",
       "      <th>7</th>\n",
       "      <td>38</td>\n",
       "      <td>AhmedRessam</td>\n",
       "      <td>0.0927634</td>\n",
       "    </tr>\n",
       "    <tr>\n",
       "      <th>8</th>\n",
       "      <td>70</td>\n",
       "      <td>Abu_Khaled</td>\n",
       "      <td>0.0903309</td>\n",
       "    </tr>\n",
       "    <tr>\n",
       "      <th>9</th>\n",
       "      <td>17</td>\n",
       "      <td>Mohammed_el-Amir_Awad_el-Sayed_Atta</td>\n",
       "      <td>0.08434</td>\n",
       "    </tr>\n",
       "  </tbody>\n",
       "</table>\n",
       "</div>"
      ],
      "text/plain": [
       "    ID                                 Name Close centrality\n",
       "0   39                                  OBL         0.254749\n",
       "1    4                        Amar_Makhulif         0.212159\n",
       "2  110                 2005/09/08/04:39:17#         0.169383\n",
       "3  134                 2005/11/04/20:40:21#         0.121702\n",
       "4  104                 2005/08/23/02:24:06#         0.115213\n",
       "5  232                              Zarqawi         0.109175\n",
       "6   23                  Omar_Mahmoud_Othman          0.10061\n",
       "7   38                          AhmedRessam        0.0927634\n",
       "8   70                           Abu_Khaled        0.0903309\n",
       "9   17  Mohammed_el-Amir_Awad_el-Sayed_Atta          0.08434"
      ]
     },
     "metadata": {},
     "output_type": "display_data"
    },
    {
     "name": "stdout",
     "output_type": "stream",
     "text": [
      "Top 10 central terrorists:\n"
     ]
    },
    {
     "data": {
      "text/html": [
       "<div>\n",
       "<style scoped>\n",
       "    .dataframe tbody tr th:only-of-type {\n",
       "        vertical-align: middle;\n",
       "    }\n",
       "\n",
       "    .dataframe tbody tr th {\n",
       "        vertical-align: top;\n",
       "    }\n",
       "\n",
       "    .dataframe thead th {\n",
       "        text-align: right;\n",
       "    }\n",
       "</style>\n",
       "<table border=\"1\" class=\"dataframe\">\n",
       "  <thead>\n",
       "    <tr style=\"text-align: right;\">\n",
       "      <th></th>\n",
       "      <th>ID</th>\n",
       "      <th>Name</th>\n",
       "      <th>Close centrality</th>\n",
       "    </tr>\n",
       "  </thead>\n",
       "  <tbody>\n",
       "    <tr>\n",
       "      <th>0</th>\n",
       "      <td>232</td>\n",
       "      <td>Zarqawi</td>\n",
       "      <td>0.240272</td>\n",
       "    </tr>\n",
       "    <tr>\n",
       "      <th>1</th>\n",
       "      <td>23</td>\n",
       "      <td>Omar_Mahmoud_Othman</td>\n",
       "      <td>0.197767</td>\n",
       "    </tr>\n",
       "    <tr>\n",
       "      <th>2</th>\n",
       "      <td>110</td>\n",
       "      <td>2005/09/08/04:39:17#</td>\n",
       "      <td>0.151197</td>\n",
       "    </tr>\n",
       "    <tr>\n",
       "      <th>3</th>\n",
       "      <td>39</td>\n",
       "      <td>OBL</td>\n",
       "      <td>0.116817</td>\n",
       "    </tr>\n",
       "    <tr>\n",
       "      <th>4</th>\n",
       "      <td>198</td>\n",
       "      <td>2006/02/15/18:45:00#</td>\n",
       "      <td>0.116315</td>\n",
       "    </tr>\n",
       "    <tr>\n",
       "      <th>5</th>\n",
       "      <td>111</td>\n",
       "      <td>2005/09/08/04:55:32#</td>\n",
       "      <td>0.111265</td>\n",
       "    </tr>\n",
       "    <tr>\n",
       "      <th>6</th>\n",
       "      <td>209</td>\n",
       "      <td>2006/03/28/16:33:37#</td>\n",
       "      <td>0.110451</td>\n",
       "    </tr>\n",
       "    <tr>\n",
       "      <th>7</th>\n",
       "      <td>4</td>\n",
       "      <td>Amar_Makhulif</td>\n",
       "      <td>0.0956601</td>\n",
       "    </tr>\n",
       "    <tr>\n",
       "      <th>8</th>\n",
       "      <td>8</td>\n",
       "      <td>Fateh_Kamel</td>\n",
       "      <td>0.0796619</td>\n",
       "    </tr>\n",
       "    <tr>\n",
       "      <th>9</th>\n",
       "      <td>134</td>\n",
       "      <td>2005/11/04/20:40:21#</td>\n",
       "      <td>0.0727851</td>\n",
       "    </tr>\n",
       "  </tbody>\n",
       "</table>\n",
       "</div>"
      ],
      "text/plain": [
       "    ID                  Name Close centrality\n",
       "0  232               Zarqawi         0.240272\n",
       "1   23   Omar_Mahmoud_Othman         0.197767\n",
       "2  110  2005/09/08/04:39:17#         0.151197\n",
       "3   39                   OBL         0.116817\n",
       "4  198  2006/02/15/18:45:00#         0.116315\n",
       "5  111  2005/09/08/04:55:32#         0.111265\n",
       "6  209  2006/03/28/16:33:37#         0.110451\n",
       "7    4         Amar_Makhulif        0.0956601\n",
       "8    8           Fateh_Kamel        0.0796619\n",
       "9  134  2005/11/04/20:40:21#        0.0727851"
      ]
     },
     "metadata": {},
     "output_type": "display_data"
    }
   ],
   "source": [
    "print(f'Top {len(centralTerrorists_orig)} betweenness centrality terrorists:')\n",
    "display(centralTerrorists_orig)\n",
    "\n",
    "print(f'Top {len(centralTerrorists_exp)} central terrorists:')\n",
    "display(centralTerrorists_exp)"
   ]
  },
  {
   "cell_type": "markdown",
   "metadata": {},
   "source": [
    "Finally, we also identify the articulation points in both of our networks. An articulation point is a vertex in a graph which if removed would increase the number of connected components. Hence an articulation point connects two or more components and represents a vulnerability in a network. Specifically, we look at those articulation points that, if removed, split a component into 3 or more disconnected components or at least disconnect 5 terrorists from the the given component."
   ]
  },
  {
   "cell_type": "code",
   "execution_count": 73,
   "metadata": {},
   "outputs": [],
   "source": [
    "oldComponents = []\n",
    "newComponents = []\n",
    "ap_terrorists = []\n",
    "\n",
    "for g in [[graph_dual, componentSizes], [graph_dual_exp, componentSizes_exp]]:\n",
    "\n",
    "    articulations = list(nx.articulation_points(g[0]))\n",
    "\n",
    "    components = []\n",
    "    splits = []\n",
    "    ap_t = []\n",
    "\n",
    "    for i in articulations:\n",
    "        temp_graph = g[0].copy()\n",
    "        temp_graph.remove_node(i)\n",
    "\n",
    "        newCompSizes = []\n",
    "        for component in nx.connected_components(temp_graph):\n",
    "            newCompSizes.append(len(component))\n",
    "\n",
    "        dummy1 = newCompSizes.copy()\n",
    "        dummy2 = g[1].copy()\n",
    "\n",
    "        for n in newCompSizes:\n",
    "            if n in dummy2:\n",
    "                dummy1.remove(n)\n",
    "                dummy2.remove(n)\n",
    "\n",
    "        if len(dummy1) == 2:\n",
    "            if dummy1[0] >= 5 and dummy1[1] >= 5:\n",
    "                components.append(dummy2[0])\n",
    "                splits.append(dummy1)\n",
    "                ap_t.append(i)\n",
    "        else:\n",
    "            components.append(dummy2[0])\n",
    "            splits.append(dummy1)\n",
    "            ap_t.append(i)\n",
    "            \n",
    "    oldComponents.append(components)\n",
    "    newComponents.append(splits)\n",
    "    ap_terrorists.append(ap_t)"
   ]
  },
  {
   "cell_type": "code",
   "execution_count": 74,
   "metadata": {},
   "outputs": [],
   "source": [
    "articulationPoints_orig = pd.DataFrame(np.stack((ap_terrorists[0],\n",
    "                                                 np.array(terrorists.iloc[ap_terrorists[0],2]),\n",
    "                                                 oldComponents[0],\n",
    "                                                 newComponents[0]), axis=1))\n",
    "\n",
    "articulationPoints_exp = pd.DataFrame(np.stack((ap_terrorists[1],\n",
    "                                                np.array(terrorists.iloc[ap_terrorists[1],2]),\n",
    "                                                oldComponents[1],\n",
    "                                                newComponents[1]), axis=1))\n",
    "\n",
    "articulationPoints_orig = articulationPoints_orig.rename(columns={0:'ID',1:'Name',2:'Component Size',3:'Split'})\n",
    "articulationPoints_exp = articulationPoints_exp.rename(columns={0:'ID',1:'Name',2:'Component Size',3:'Split'})"
   ]
  },
  {
   "cell_type": "code",
   "execution_count": 75,
   "metadata": {
    "scrolled": false
   },
   "outputs": [
    {
     "data": {
      "text/html": [
       "<div>\n",
       "<style scoped>\n",
       "    .dataframe tbody tr th:only-of-type {\n",
       "        vertical-align: middle;\n",
       "    }\n",
       "\n",
       "    .dataframe tbody tr th {\n",
       "        vertical-align: top;\n",
       "    }\n",
       "\n",
       "    .dataframe thead th {\n",
       "        text-align: right;\n",
       "    }\n",
       "</style>\n",
       "<table border=\"1\" class=\"dataframe\">\n",
       "  <thead>\n",
       "    <tr style=\"text-align: right;\">\n",
       "      <th></th>\n",
       "      <th>ID</th>\n",
       "      <th>Name</th>\n",
       "      <th>Component Size</th>\n",
       "      <th>Split</th>\n",
       "    </tr>\n",
       "  </thead>\n",
       "  <tbody>\n",
       "    <tr>\n",
       "      <th>0</th>\n",
       "      <td>70</td>\n",
       "      <td>Abu_Khaled</td>\n",
       "      <td>183</td>\n",
       "      <td>[166, 16]</td>\n",
       "    </tr>\n",
       "    <tr>\n",
       "      <th>1</th>\n",
       "      <td>134</td>\n",
       "      <td>2005/11/04/20:40:21#</td>\n",
       "      <td>183</td>\n",
       "      <td>[160, 22]</td>\n",
       "    </tr>\n",
       "    <tr>\n",
       "      <th>2</th>\n",
       "      <td>232</td>\n",
       "      <td>Zarqawi</td>\n",
       "      <td>183</td>\n",
       "      <td>[174, 7, 1]</td>\n",
       "    </tr>\n",
       "    <tr>\n",
       "      <th>3</th>\n",
       "      <td>37</td>\n",
       "      <td>Zain_al-Abidin_Mohd_Hussein</td>\n",
       "      <td>183</td>\n",
       "      <td>[170, 10, 2]</td>\n",
       "    </tr>\n",
       "    <tr>\n",
       "      <th>4</th>\n",
       "      <td>8</td>\n",
       "      <td>Fateh_Kamel</td>\n",
       "      <td>183</td>\n",
       "      <td>[175, 7]</td>\n",
       "    </tr>\n",
       "    <tr>\n",
       "      <th>5</th>\n",
       "      <td>38</td>\n",
       "      <td>AhmedRessam</td>\n",
       "      <td>183</td>\n",
       "      <td>[170, 11, 1]</td>\n",
       "    </tr>\n",
       "    <tr>\n",
       "      <th>6</th>\n",
       "      <td>20</td>\n",
       "      <td>Mustafa_Kamel</td>\n",
       "      <td>183</td>\n",
       "      <td>[179, 1, 1, 1]</td>\n",
       "    </tr>\n",
       "    <tr>\n",
       "      <th>7</th>\n",
       "      <td>39</td>\n",
       "      <td>OBL</td>\n",
       "      <td>183</td>\n",
       "      <td>[180, 1, 1]</td>\n",
       "    </tr>\n",
       "    <tr>\n",
       "      <th>8</th>\n",
       "      <td>213</td>\n",
       "      <td>Zawahiri</td>\n",
       "      <td>183</td>\n",
       "      <td>[7, 171, 4]</td>\n",
       "    </tr>\n",
       "    <tr>\n",
       "      <th>9</th>\n",
       "      <td>0</td>\n",
       "      <td>Abdel_Qader_Mahmoud_Es_Sayed</td>\n",
       "      <td>183</td>\n",
       "      <td>[176, 6]</td>\n",
       "    </tr>\n",
       "  </tbody>\n",
       "</table>\n",
       "</div>"
      ],
      "text/plain": [
       "    ID                          Name Component Size           Split\n",
       "0   70                    Abu_Khaled            183       [166, 16]\n",
       "1  134          2005/11/04/20:40:21#            183       [160, 22]\n",
       "2  232                       Zarqawi            183     [174, 7, 1]\n",
       "3   37   Zain_al-Abidin_Mohd_Hussein            183    [170, 10, 2]\n",
       "4    8                   Fateh_Kamel            183        [175, 7]\n",
       "5   38                   AhmedRessam            183    [170, 11, 1]\n",
       "6   20                 Mustafa_Kamel            183  [179, 1, 1, 1]\n",
       "7   39                           OBL            183     [180, 1, 1]\n",
       "8  213                      Zawahiri            183     [7, 171, 4]\n",
       "9    0  Abdel_Qader_Mahmoud_Es_Sayed            183        [176, 6]"
      ]
     },
     "metadata": {},
     "output_type": "display_data"
    },
    {
     "data": {
      "text/html": [
       "<div>\n",
       "<style scoped>\n",
       "    .dataframe tbody tr th:only-of-type {\n",
       "        vertical-align: middle;\n",
       "    }\n",
       "\n",
       "    .dataframe tbody tr th {\n",
       "        vertical-align: top;\n",
       "    }\n",
       "\n",
       "    .dataframe thead th {\n",
       "        text-align: right;\n",
       "    }\n",
       "</style>\n",
       "<table border=\"1\" class=\"dataframe\">\n",
       "  <thead>\n",
       "    <tr style=\"text-align: right;\">\n",
       "      <th></th>\n",
       "      <th>ID</th>\n",
       "      <th>Name</th>\n",
       "      <th>Component Size</th>\n",
       "      <th>Split</th>\n",
       "    </tr>\n",
       "  </thead>\n",
       "  <tbody>\n",
       "    <tr>\n",
       "      <th>0</th>\n",
       "      <td>232</td>\n",
       "      <td>Zarqawi</td>\n",
       "      <td>209</td>\n",
       "      <td>[182, 7, 19]</td>\n",
       "    </tr>\n",
       "    <tr>\n",
       "      <th>1</th>\n",
       "      <td>209</td>\n",
       "      <td>2006/03/28/16:33:37#</td>\n",
       "      <td>209</td>\n",
       "      <td>[191, 17]</td>\n",
       "    </tr>\n",
       "    <tr>\n",
       "      <th>2</th>\n",
       "      <td>198</td>\n",
       "      <td>2006/02/15/18:45:00#</td>\n",
       "      <td>209</td>\n",
       "      <td>[190, 18]</td>\n",
       "    </tr>\n",
       "    <tr>\n",
       "      <th>3</th>\n",
       "      <td>20</td>\n",
       "      <td>Mustafa_Kamel</td>\n",
       "      <td>209</td>\n",
       "      <td>[205, 1, 1, 1]</td>\n",
       "    </tr>\n",
       "    <tr>\n",
       "      <th>4</th>\n",
       "      <td>39</td>\n",
       "      <td>OBL</td>\n",
       "      <td>209</td>\n",
       "      <td>[206, 1, 1]</td>\n",
       "    </tr>\n",
       "  </tbody>\n",
       "</table>\n",
       "</div>"
      ],
      "text/plain": [
       "    ID                  Name Component Size           Split\n",
       "0  232               Zarqawi            209    [182, 7, 19]\n",
       "1  209  2006/03/28/16:33:37#            209       [191, 17]\n",
       "2  198  2006/02/15/18:45:00#            209       [190, 18]\n",
       "3   20         Mustafa_Kamel            209  [205, 1, 1, 1]\n",
       "4   39                   OBL            209     [206, 1, 1]"
      ]
     },
     "metadata": {},
     "output_type": "display_data"
    }
   ],
   "source": [
    "display(articulationPoints_orig)\n",
    "display(articulationPoints_exp)"
   ]
  },
  {
   "cell_type": "markdown",
   "metadata": {},
   "source": [
    "So far we have narrowed down our list of terrorists based on their degree, betweeness centrality and whether they act as articulation points. We have done this in both the original and expanded dual networks. For each of the networks, we identify below those terrorists that have at least achieved a high score in two of the three metrics above."
   ]
  },
  {
   "cell_type": "code",
   "execution_count": 76,
   "metadata": {
    "scrolled": false
   },
   "outputs": [
    {
     "name": "stdout",
     "output_type": "stream",
     "text": [
      "Terrorists appeared in the top:\n",
      "Degree & Centrality: [4, 70]\n",
      "Degree & Articulation: [20, 70]\n",
      "Articulation & Centrality: [38, 70, 232, 134, 39]\n"
     ]
    }
   ],
   "source": [
    "DC_orig = list(set(mostConnectedTerrorists_orig.iloc[:,0].astype(int)) & set(centralTerrorists_orig.iloc[:,0]))\n",
    "DA_orig = list(set(mostConnectedTerrorists_orig.iloc[:,0].astype(int)) & set(articulationPoints_orig.iloc[:,0]))\n",
    "AC_orig = list(set(articulationPoints_orig.iloc[:,0]) & set(centralTerrorists_orig.iloc[:,0]))\n",
    "print('Terrorists appeared in the top:')\n",
    "print('Degree & Centrality:', DC_orig)\n",
    "print('Degree & Articulation:', DA_orig)\n",
    "print('Articulation & Centrality:', AC_orig)"
   ]
  },
  {
   "cell_type": "code",
   "execution_count": 77,
   "metadata": {},
   "outputs": [
    {
     "name": "stdout",
     "output_type": "stream",
     "text": [
      "Terrorists appeared in the top:\n",
      "Degree & Centrality: [8, 4]\n",
      "Degree & Articulation: [20]\n",
      "Articulation & Centrality: [232, 209, 198, 39]\n"
     ]
    }
   ],
   "source": [
    "DC_exp = list(set(mostConnectedTerrorists_exp.iloc[:,0].astype(int)) & set(centralTerrorists_exp.iloc[:,0]))\n",
    "DA_exp = list(set(mostConnectedTerrorists_exp.iloc[:,0].astype(int)) & set(articulationPoints_exp.iloc[:,0]))\n",
    "AC_exp = list(set(articulationPoints_exp.iloc[:,0]) & set(centralTerrorists_exp.iloc[:,0]))\n",
    "print('Terrorists appeared in the top:')\n",
    "print('Degree & Centrality:', DC_exp)\n",
    "print('Degree & Articulation:', DA_exp)\n",
    "print('Articulation & Centrality:', AC_exp)"
   ]
  },
  {
   "cell_type": "markdown",
   "metadata": {},
   "source": [
    "Given the filtered lists of terrorists above, we selected the intersection of the two lists:\n",
    "-  4, 20, 39, 232\n",
    "\n",
    "Additionally we selected an extra terrorist from each list to get the following:\n",
    "- Targets from original network: 4, 20, 39, 232, 70\n",
    "- Targets from expanded network: 4, 20, 39, 232, 8\n",
    "\n",
    "Finally, now that we have a top 5 list from each network, we determine the most wanted terrorist by analysing the propagation of information from each terrorist in its respective graph. We do this by placing a dirac on each terrorist and using a heat kernel visualise how the signal spreads over t = 200. The comparison is presented in the cells below"
   ]
  },
  {
   "cell_type": "code",
   "execution_count": 78,
   "metadata": {},
   "outputs": [
    {
     "data": {
      "image/png": "[encoded data removed]",
      "text/plain": [
       "<Figure size 1224x360 with 10 Axes>"
      ]
     },
     "metadata": {},
     "output_type": "display_data"
    }
   ],
   "source": [
    "dual_gsp = pg.graphs.Graph(adjacency_dual)\n",
    "dual_gsp.compute_fourier_basis()\n",
    "\n",
    "dual_gsp.set_coordinates('spring')\n",
    "\n",
    "fig = plt.figure(figsize=(17, 5))\n",
    "\n",
    "g = pg.filters.Heat(dual_gsp, tau = 200)  # The heat kernel to be localized\n",
    "SOURCE = [4, 20, 39, 232, 70]  # node to localize the heat kernel\n",
    "\n",
    "for i in range(len(SOURCE)):\n",
    "    s_localized = g.localize(SOURCE[i])\n",
    "    ax = fig.add_subplot(1, len(SOURCE), i+1)\n",
    "    dual_gsp.plot_signal(s_localized, colorbar=True, ax=ax)\n",
    "    title = r'Dirac at node-{}'.format(SOURCE[i])\n",
    "    ax.set_title(title)\n",
    "    ax.set_axis_off()"
   ]
  },
  {
   "cell_type": "code",
   "execution_count": 79,
   "metadata": {
    "scrolled": true
   },
   "outputs": [
    {
     "data": {
      "image/png": "[encoded data removed]",
      "text/plain": [
       "<Figure size 1224x360 with 10 Axes>"
      ]
     },
     "metadata": {},
     "output_type": "display_data"
    }
   ],
   "source": [
    "dual_exp_gsp = pg.graphs.Graph(adjacency_dual_expanded)\n",
    "dual_exp_gsp.compute_fourier_basis()\n",
    "\n",
    "dual_exp_gsp.set_coordinates('spring')\n",
    "\n",
    "fig = plt.figure(figsize=(17, 5))\n",
    "\n",
    "g = pg.filters.Heat(dual_exp_gsp, tau = 200)  # The heat kernel to be localized\n",
    "SOURCE = [4, 20, 39, 232, 8]  # node to localize the heat kernel\n",
    "\n",
    "for i in range(len(SOURCE)):\n",
    "    s_localized = g.localize(SOURCE[i])\n",
    "    ax = fig.add_subplot(1, len(SOURCE), i+1)\n",
    "    dual_exp_gsp.plot_signal(s_localized, colorbar=True, ax=ax)\n",
    "    title = r'Dirac at node-{}'.format(SOURCE[i])\n",
    "    ax.set_title(title)\n",
    "    ax.set_axis_off()"
   ]
  },
  {
   "cell_type": "markdown",
   "metadata": {},
   "source": [
    "By analysing the how the dirac signal spreads from each terrorist, we can see how quickly information would spread across the network if a given terrorist had to share information. Looking at both the original and expanded graph, terrorist number 39 consistently performs well indicating that he is our high value target. "
   ]
  },
  {
   "cell_type": "code",
   "execution_count": 80,
   "metadata": {},
   "outputs": [
    {
     "name": "stdout",
     "output_type": "stream",
     "text": [
      "url_index    http://profilesinterror.mindswap.org/document/...\n",
      "num_index                                                   39\n",
      "name                                                       OBL\n",
      "Name: 39, dtype: object\n"
     ]
    }
   ],
   "source": [
    "print(terrorists.iloc[39])"
   ]
  },
  {
   "cell_type": "markdown",
   "metadata": {},
   "source": [
    "Considering that this our most wanted terrorist, it is safe to assume that he should probably be at the head of a terrorist organisation. Hence, we look at the organizational structure in our graph emanating from this individual and observe that he is in a position where he can reach any fellow terrorist in his connected component in a maximum of 7 steps"
   ]
  },
  {
   "cell_type": "code",
   "execution_count": 81,
   "metadata": {},
   "outputs": [],
   "source": [
    "spreadDict = nx.single_source_shortest_path(graph_dual_exp, source=39, cutoff=None)\n",
    "spreadList = list(spreadDict.values())\n",
    "nLayers = len(spreadList[-1])\n",
    "layers = []\n",
    "nextLayer = []\n",
    "\n",
    "for a in range(nLayers+1):\n",
    "    for i in spreadList:\n",
    "        if len(i) == a:\n",
    "            nextLayer.append(i[-1])\n",
    "    layers.append(nextLayer)\n",
    "    nextLayer = []\n",
    "layers.remove([])"
   ]
  },
  {
   "cell_type": "code",
   "execution_count": 82,
   "metadata": {
    "scrolled": true
   },
   "outputs": [
    {
     "name": "stderr",
     "output_type": "stream",
     "text": [
      "/anaconda3/envs/ntds_2018/lib/python3.6/site-packages/networkx/drawing/nx_pylab.py:611: MatplotlibDeprecationWarning: isinstance(..., numbers.Number)\n",
      "  if cb.is_numlike(alpha):\n"
     ]
    },
    {
     "data": {
      "image/png": "[encoded data removed]",
      "text/plain": [
       "<Figure size 1224x360 with 1 Axes>"
      ]
     },
     "metadata": {},
     "output_type": "display_data"
    }
   ],
   "source": [
    "nodePos = nx.circular_layout(graph_dual_exp)\n",
    "nodePosList = list(nodePos.values())\n",
    "\n",
    "fig = plt.figure(figsize=(17, 5))\n",
    "ax = fig.add_subplot(1, 1, 1)\n",
    "\n",
    "for i in layers:\n",
    "    lenLayer = len(i)\n",
    "    for j in range(lenLayer):\n",
    "        if layers.index(i) > 4:\n",
    "            nodePos[i[j]] = [j-layers.index(i), len(layers)-layers.index(i)+1.5]\n",
    "        else:\n",
    "            nodePos[i[j]] = [j-layers.index(i)*5, len(layers)-layers.index(i)+1.5]\n",
    "\n",
    "nx.draw_networkx(graph_dual, with_labels=True, ax=ax, pos=nodePos, node_color='c',\n",
    "                 edge_color='black', node_shape='.', width = 0.1, font_size=10)\n",
    "\n",
    "ax.set_title('Organizational Structure in Giant Component')\n",
    "ax.set_axis_off()\n",
    "\n",
    "plt.show()"
   ]
  },
  {
   "cell_type": "markdown",
   "metadata": {},
   "source": [
    "## III. Conclusion\n",
    "In summary, reconstructing the data has allowed us to look at the terrorist relations network from different perspectives. By creating the Dual Graph from the original relationship graph, we were able to predict the existence of relations that are not publicly known based on the similarity of node features. Reverting this expanded network back into a relationship graph format and learning the labels for the new relationships, we observed that this had a positive impact on the spectral clustering accuracy. Specifically, using spectral clustering, we managed to exclusively group the majority of family terrorist relations into a cluster. On the other hand, the Expanded Dual Graph allowed us to highlight the difference in threat between the observed and the ‘true’ terrorist network. It also shed light on new terrorists that could be targeted compared to those terrorists that are central to the original network. Subsequently, we were able to validate the importance of a single terrorist (Osame Bin Laden) in both networks by analysing the spread of a signal emanated from his respective node in the network compared to other central nodes. Finally, reviewing his connections in the expanded terrorist network revealed an organisational structure in his respective connected component that is comparable to a terrorist organization."
   ]
  }
 ],
 "metadata": {
  "kernelspec": {
   "display_name": "Python 3",
   "language": "python",
   "name": "python3"
  },
  "language_info": {
   "codemirror_mode": {
    "name": "ipython",
    "version": 3
   },
   "file_extension": ".py",
   "mimetype": "text/x-python",
   "name": "python",
   "nbconvert_exporter": "python",
   "pygments_lexer": "ipython3",
   "version": "3.6.6"
  }
 },
 "nbformat": 4,
 "nbformat_minor": 2
}
